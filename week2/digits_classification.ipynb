{
 "cells": [
  {
   "cell_type": "markdown",
   "metadata": {
    "slideshow": {
     "slide_type": "slide"
    }
   },
   "source": [
    "# MNIST digits classification with TensorFlow"
   ]
  },
  {
   "cell_type": "markdown",
   "metadata": {},
   "source": [
    "<img src=\"images/mnist_sample.png\" style=\"width:30%\">"
   ]
  },
  {
   "cell_type": "code",
   "execution_count": 1,
   "metadata": {},
   "outputs": [
    {
     "name": "stdout",
     "output_type": "stream",
     "text": [
      "We're using TF 1.2.1\n"
     ]
    }
   ],
   "source": [
    "import numpy as np\n",
    "from sklearn.metrics import accuracy_score\n",
    "from matplotlib import pyplot as plt\n",
    "%matplotlib inline\n",
    "import tensorflow as tf\n",
    "print(\"We're using TF\", tf.__version__)"
   ]
  },
  {
   "cell_type": "code",
   "execution_count": 2,
   "metadata": {},
   "outputs": [
    {
     "name": "stderr",
     "output_type": "stream",
     "text": [
      "Using TensorFlow backend.\n"
     ]
    }
   ],
   "source": [
    "import sys\n",
    "sys.path.append(\"../..\")\n",
    "import grading\n",
    "\n",
    "import matplotlib_utils\n",
    "from importlib import reload\n",
    "reload(matplotlib_utils)\n",
    "\n",
    "import grading_utils\n",
    "reload(grading_utils)\n",
    "\n",
    "import keras_utils\n",
    "from keras_utils import reset_tf_session"
   ]
  },
  {
   "cell_type": "markdown",
   "metadata": {},
   "source": [
    "# Fill in your Coursera token and email\n",
    "To successfully submit your answers to our grader, please fill in your Coursera submission token and email"
   ]
  },
  {
   "cell_type": "code",
   "execution_count": 3,
   "metadata": {
    "collapsed": true
   },
   "outputs": [],
   "source": [
    "grader = grading.Grader(assignment_key=\"XtD7ho3TEeiHQBLWejjYAA\", \n",
    "                        all_parts=[\"9XaAS\", \"vmogZ\", \"RMv95\", \"i8bgs\", \"rE763\"])"
   ]
  },
  {
   "cell_type": "code",
   "execution_count": 44,
   "metadata": {
    "collapsed": true
   },
   "outputs": [],
   "source": [
    "# token expires every 30 min\n",
    "COURSERA_TOKEN = \"6USSOd9AHEiMEAGQ\"\n",
    "COURSERA_EMAIL = \"popov.hawk@gmail.com\""
   ]
  },
  {
   "cell_type": "markdown",
   "metadata": {},
   "source": [
    "# Look at the data\n",
    "\n",
    "In this task we have 50000 28x28 images of digits from 0 to 9.\n",
    "We will train a classifier on this data."
   ]
  },
  {
   "cell_type": "code",
   "execution_count": 5,
   "metadata": {
    "collapsed": true
   },
   "outputs": [],
   "source": [
    "import preprocessed_mnist\n",
    "X_train, y_train, X_val, y_val, X_test, y_test = preprocessed_mnist.load_dataset_from_file()"
   ]
  },
  {
   "cell_type": "code",
   "execution_count": 8,
   "metadata": {},
   "outputs": [
    {
     "name": "stdout",
     "output_type": "stream",
     "text": [
      "X_train [shape (50000, 28, 28)] sample patch:\n",
      " [[ 0.          0.29803922  0.96470588  0.98823529  0.43921569]\n",
      " [ 0.          0.33333333  0.98823529  0.90196078  0.09803922]\n",
      " [ 0.          0.33333333  0.98823529  0.8745098   0.        ]\n",
      " [ 0.          0.33333333  0.98823529  0.56862745  0.        ]\n",
      " [ 0.          0.3372549   0.99215686  0.88235294  0.        ]]\n",
      "A closeup of a sample patch:\n"
     ]
    },
    {
     "data": {
      "image/png": "[encoded data removed]",
      "text/plain": [
       "<matplotlib.figure.Figure at 0x7f3de9c515f8>"
      ]
     },
     "metadata": {},
     "output_type": "display_data"
    },
    {
     "name": "stdout",
     "output_type": "stream",
     "text": [
      "And the whole sample:\n"
     ]
    },
    {
     "data": {
      "image/png": "[encoded data removed]",
      "text/plain": [
       "<matplotlib.figure.Figure at 0x7f3de9c46c88>"
      ]
     },
     "metadata": {},
     "output_type": "display_data"
    },
    {
     "name": "stdout",
     "output_type": "stream",
     "text": [
      "y_train [shape (50000,)] 10 samples:\n",
      " [5 0 4 1 9 2 1 3 1 4]\n"
     ]
    }
   ],
   "source": [
    "# X contains rgb values divided by 255\n",
    "print(\"X_train [shape %s] sample patch:\\n\" % (str(X_train.shape)), X_train[1, 15:20, 5:10])\n",
    "print(\"A closeup of a sample patch:\")\n",
    "plt.imshow(X_train[1, 15:20, 5:10], cmap=\"Greys\")\n",
    "plt.show()\n",
    "print(\"And the whole sample:\")\n",
    "plt.imshow(X_train[1], cmap=\"Greys\")\n",
    "plt.show()\n",
    "print(\"y_train [shape %s] 10 samples:\\n\" % (str(y_train.shape)), y_train[:10])"
   ]
  },
  {
   "cell_type": "markdown",
   "metadata": {},
   "source": [
    "# Linear model\n",
    "\n",
    "Your task is to train a linear classifier $\\vec{x} \\rightarrow y$ with SGD using TensorFlow.\n",
    "\n",
    "You will need to calculate a logit (a linear transformation) $z_k$ for each class: \n",
    "$$z_k = \\vec{x} \\cdot \\vec{w_k} + b_k \\quad k = 0..9$$\n",
    "\n",
    "And transform logits $z_k$ to valid probabilities $p_k$ with softmax: \n",
    "$$p_k = \\frac{e^{z_k}}{\\sum_{i=0}^{9}{e^{z_i}}} \\quad k = 0..9$$\n",
    "\n",
    "We will use a cross-entropy loss to train our multi-class classifier:\n",
    "$$\\text{cross-entropy}(y, p) = -\\sum_{k=0}^{9}{\\log(p_k)[y = k]}$$ \n",
    "\n",
    "where \n",
    "$$\n",
    "[x]=\\begin{cases}\n",
    "       1, \\quad \\text{if $x$ is true} \\\\\n",
    "       0, \\quad \\text{otherwise}\n",
    "    \\end{cases}\n",
    "$$\n",
    "\n",
    "Cross-entropy minimization pushes $p_k$ close to 1 when $y = k$, which is what we want.\n",
    "\n",
    "Here's the plan:\n",
    "* Flatten the images (28x28 -> 784) with `X_train.reshape((X_train.shape[0], -1))` to simplify our linear model implementation\n",
    "* Use a matrix placeholder for flattened `X_train`\n",
    "* Convert `y_train` to one-hot encoded vectors that are needed for cross-entropy\n",
    "* Use a shared variable `W` for all weights (a column $\\vec{w_k}$ per class) and `b` for all biases.\n",
    "* Aim for ~0.93 validation accuracy"
   ]
  },
  {
   "cell_type": "code",
   "execution_count": 9,
   "metadata": {},
   "outputs": [
    {
     "name": "stdout",
     "output_type": "stream",
     "text": [
      "(50000, 784)\n",
      "(10000, 784)\n"
     ]
    }
   ],
   "source": [
    "X_train_flat = X_train.reshape((X_train.shape[0], -1))\n",
    "print(X_train_flat.shape)\n",
    "\n",
    "X_val_flat = X_val.reshape((X_val.shape[0], -1))\n",
    "print(X_val_flat.shape)"
   ]
  },
  {
   "cell_type": "code",
   "execution_count": 10,
   "metadata": {},
   "outputs": [
    {
     "name": "stdout",
     "output_type": "stream",
     "text": [
      "(50000, 10)\n",
      "[[ 0.  0.  0.  0.  0.  1.  0.  0.  0.  0.]\n",
      " [ 1.  0.  0.  0.  0.  0.  0.  0.  0.  0.]\n",
      " [ 0.  0.  0.  0.  1.  0.  0.  0.  0.  0.]] [5 0 4]\n"
     ]
    }
   ],
   "source": [
    "import keras\n",
    "\n",
    "y_train_oh = keras.utils.to_categorical(y_train, 10)\n",
    "y_val_oh = keras.utils.to_categorical(y_val, 10)\n",
    "\n",
    "print(y_train_oh.shape)\n",
    "print(y_train_oh[:3], y_train[:3])"
   ]
  },
  {
   "cell_type": "code",
   "execution_count": 25,
   "metadata": {
    "collapsed": true
   },
   "outputs": [],
   "source": [
    "# run this again if you remake your graph\n",
    "s = reset_tf_session()"
   ]
  },
  {
   "cell_type": "code",
   "execution_count": 26,
   "metadata": {},
   "outputs": [],
   "source": [
    "# Model parameters: W and b\n",
    "W = tf.get_variable(\"W\", shape=(784,10), dtype=tf.float32)### YOUR CODE HERE ### tf.get_variable(...) with shape[0] = 784\n",
    "b = tf.get_variable(\"b\", shape=(1,10), dtype=tf.float32)### YOUR CODE HERE ### tf.get_variable(...)"
   ]
  },
  {
   "cell_type": "code",
   "execution_count": 27,
   "metadata": {
    "collapsed": true
   },
   "outputs": [],
   "source": [
    "# Placeholders for the input data\n",
    "input_X = tf.placeholder(tf.float32, shape=(None, 784))### YOUR CODE HERE ### tf.placeholder(...) for flat X with shape[0] = None for any batch size\n",
    "input_y = tf.placeholder(tf.float32, shape=(None, 10))### YOUR CODE HERE ### tf.placeholder(...) for one-hot encoded true labels"
   ]
  },
  {
   "cell_type": "code",
   "execution_count": 56,
   "metadata": {
    "collapsed": true
   },
   "outputs": [],
   "source": [
    "# Compute predictions\n",
    "logits = input_X @ W + b ### YOUR CODE HERE ### logits for input_X, resulting shape should be [input_X.shape[0], 10]\n",
    "probas = tf.nn.softmax(logits) ### YOUR CODE HERE ### apply tf.nn.softmax to logits\n",
    "classes = tf.argmax(probas, 1)  ### YOUR CODE HERE ### apply tf.argmax to find a class index with highest probability\n",
    "\n",
    "# Loss should be a scalar number: average loss over all the objects with tf.reduce_mean().\n",
    "# Use tf.nn.softmax_cross_entropy_with_logits on top of one-hot encoded input_y and logits.\n",
    "# It is identical to calculating cross-entropy on top of probas, but is more numerically friendly (read the docs).\n",
    "loss = tf.reduce_mean(tf.nn.softmax_cross_entropy_with_logits(labels=input_y, logits=probas)) ### YOUR CODE HERE ### cross-entropy loss\n",
    "\n",
    "# Use a default tf.train.AdamOptimizer to get an SGD step\n",
    "step = tf.train.AdamOptimizer().minimize(loss) ### YOUR CODE HERE ### optimizer step that minimizes the loss"
   ]
  },
  {
   "cell_type": "code",
   "execution_count": 57,
   "metadata": {
    "scrolled": false
   },
   "outputs": [
    {
     "data": {
      "text/html": [
       "<img src=\"data:image/jpeg;base64,/9j/4AAQSkZJRgABAQAAAQABAAD/2wBDAAIBAQEBAQIBAQECAgICAgQDAgICAgUEBAMEBgUGBgYFBgYGBwkIBgcJBwYGCAsICQoKCgoKBggLDAsKDAkKCgr/2wBDAQICAgICAgUDAwUKBwYHCgoKCgoKCgoKCgoKCgoKCgoKCgoKCgoKCgoKCgoKCgoKCgoKCgoKCgoKCgoKCgoKCgr/wAARCAEgA2ADASIAAhEBAxEB/8QAHwAAAQUBAQEBAQEAAAAAAAAAAAECAwQFBgcICQoL/8QAtRAAAgEDAwIEAwUFBAQAAAF9AQIDAAQRBRIhMUEGE1FhByJxFDKBkaEII0KxwRVS0fAkM2JyggkKFhcYGRolJicoKSo0NTY3ODk6Q0RFRkdISUpTVFVWV1hZWmNkZWZnaGlqc3R1dnd4eXqDhIWGh4iJipKTlJWWl5iZmqKjpKWmp6ipqrKztLW2t7i5usLDxMXGx8jJytLT1NXW19jZ2uHi4%2BTl5ufo6erx8vP09fb3%2BPn6/8QAHwEAAwEBAQEBAQEBAQAAAAAAAAECAwQFBgcICQoL/8QAtREAAgECBAQDBAcFBAQAAQJ3AAECAxEEBSExBhJBUQdhcRMiMoEIFEKRobHBCSMzUvAVYnLRChYkNOEl8RcYGRomJygpKjU2Nzg5OkNERUZHSElKU1RVVldYWVpjZGVmZ2hpanN0dXZ3eHl6goOEhYaHiImKkpOUlZaXmJmaoqOkpaanqKmqsrO0tba3uLm6wsPExcbHyMnK0tPU1dbX2Nna4uPk5ebn6Onq8vP09fb3%2BPn6/9oADAMBAAIRAxEAPwD9/KKKKACiiigAooooAKKKKACiiigAooooAKKKKACiiigAooooAKKKKACiiigAooooAKKKKACiiigAooooAKKKKACiiigAooooAKKKKACiiigAooooAKKKKACiiigAooooAKKKKACiiigAooooAKKKKACiiigAooooAKKKKACiiigAooooAKKKKACiiigAooooAKKKKACiiigAooooAKKKKACiiigAooooAKKKKACiiigAooooAKKKKACiiigAooooAKKKKACiiigAooooAKKKKACiiigAooooAKKKKACiiigAooooAKKKKACiiigAooooAKKKKACiiigAooooAKKKKACiiigAooooAKKKKACvPfjt%2B1J8FP2b5NGsfil4g1Maj4ilnTQNB8OeF9R1zVNR8lVed4bHTbee5kjiVkMkixlI96biu5c%2BhV4N%2B0P8D/j5/wANJ%2BDv2tv2bLLwfrWueH/B2seFNX8KeOdcutLtLywv7mwuxcQXtraXj288U2noCpt3WVJSCUKK1ABpf/BTL9izWLvxPb2nxXv0h8FWsk/jLUrvwXrEFjoIS0iu9l5dy2iwWsrQzRskMjrJIWKorMrKL2n/APBQ/wDZK1HwBrXxFTx/q9vB4f1ay0vVdE1DwNrNrrkV5ebfscC6PNaLqEr3AYGER27eaAxTcFYjy2b9gH4y%2BMf2a/jn8NfGHinwppHin4o/FS38daHc6U1xeWFpeW0OiywQ3IkihkkiN3pRRwoyYHGDuJVaPi79i/8AaV%2BLmr/Ef45fG34S/CjWvFnjWx8KaPp/gKy%2BI2s2Wm6fY6Hcaldw3qa7b6al5DqDXOqTOksVoPJSKNFZiWcgHsviH9vv9mzwv4a8OeI9XvvG3meK0v5NE8P2vwm8SXGuSRWUscV3NJpMWntf28MLzQq8s0CIpmiy37xM%2Bmaz8RPBHhv4e3XxX8T%2BJbbSvDljo76rf6vqrfZYbSySIzPPMZdvlKsYLNvxtAOcYNfGHin9hH9s/WPgX4X8Nay3hfxV470a58RHRfGV/wDHbxNpGr%2BCLW%2BuUktLO11q1sJLzXIYkjhEy3qw/aTbReYCFGPUfjR/wTotfj1%2Bzb4n%2BHHxD%2BOfjW78d%2BMPhfH4Z17xS3jbWho818tpDE2oJoS3y2FuzzQLK3kRRSEPIBIrSM5AOkg/4KUfsZf8K58V/FbWPite6Jo3giysr7xQ/ifwdq%2Bk3NlZXkxhtb37LeWsVxJaSyK6pcxxtC3luQ%2BEYjj/AI3f8FZP2d/hn8ENU%2BMfgPRfFXiqbQfiD4X8L674Y/4QXXbHU7A6zqVrax3T2cmnNdeV5Fw88DeT5d48aW8MhknjB8r1T/gmJ8ZPHfwq8faR4i8DeG9G8Y%2BI9D0fR7DxDqv7RfjPxut3aWusW%2BoTRyf27AfsEZ8likUSzHe%2BGkxknv8A9qH9gz40/GD4g/F/4g%2BBfEPheOTxfB8LbzwlZ6tfXMSvf%2BE/EdzrUsN40dvJ5ENwGt4VljEzrl2MfyKrgHqFh/wUE/Zb1H4m2XwZh8T%2BJo/Fd5oun6xLoF38N9egudO0%2B9adILu/SSyU6dDut5VeS68pYiFEhQum6j4a/wCCmH7FPi3wZ4s%2BIWkfGC4TR/Bfgi68Zaxe6h4S1W0Fx4et0Z5tWsVntUbVLNVQ4nsxPGxZArEugbB0P9kP4ofEP4mfG74g/G9fD2gxfGj4O%2BHfCF1Y%2BE9duNRl0u4tE11Ltlnns7XzYwNViMT7FZikm6OPA3fN37Y37Kn7UOj/ALDHxS%2BJv7TF34AtIfhD%2BxT8QfBHhePwFqF5cNrzXukWxn1G6W5toBYqE0i3CWcbXAVppCZ22oKAPrPw9/wUl/Yy8TaHrHiPT/i1dQWehppU1/JqnhLVbJmtNSu1s7HUIUuLVGubCWdgovoQ9qoDO0qorMPT9E%2BLvw88R/FLX/gvofiH7T4k8LaXp%2Boa/YR2k22zgvmuBa7pinlF3%2ByzHy1cyKoRmVVkjLfJOofsz%2BIPFegeKfjb/wAFIvF/wz8J%2BBbf9nu5%2BHUlx4f8QTLay6beyQyXmq3k17BbpYOTBbCG2QzCAmT/AEiQsuOw/wCCPngP4u2f7I9r8f8A9pDUDf8AxJ%2BL15H4n8V6g9nJbtJCLSCy01fKl%2BeH/iX2lpI0TYKSzTZAYtkA%2BqqKKKACiiigAooooAKKKKACiiigAooooAKKKKACiiigAooooAKKKKACiiigAooooAKKKKACiiigAooooAKKKKACiiigAooooAK8R0j/AIKMfse6ld69Z6n8Urzw83hzw5c%2BINQk8a%2BEdV0GObSbd0jnv7WTUrWBb63R5IlaW2MqAyxjOXXPtN7FczWcsNndCCZ4mWKYx7/LYjhtp64POO9fmJq//BHL9uX4v6t4X1z43fHHQ31vw14P1Cz1DxRqHxW8TeJx4h1v7ZpV9a6idLvoobLSbaS50xfPsLIBRHJtWWQKgUA%2B2X/b/wD2YbX4aN8WNY8QeKtK0ttcg0axs9c%2BGWv2GqanfzIZIYLLTbixS9v2kQM6/Z4ZAyo7AkIxHReA/wBqz4H/ABH1%2By8J%2BHPEOqQ6vf8AhSfxJDpGteFdS0y7TTYbv7JLLLDeW8UkDrP8hhkVZe%2BzbzXk3xO%2BDn7bvxib4e/G3XPBvwq0P4h/Cjx1NrHh/wAM2vjjUr/Rdcs7jSbvTLmO4vn0qGaxmKXskkbpa3AjMQU%2BYJGxV%2BJPwG/bg1/4y%2BHf2mvA%2BjfCu08WX3ww1XwX4x0LUvFepSWGkLcX8N1a39lcJpwk1AxCN1kt5YrQSlxiWLHIB3Gk/wDBRv8AZA8R694F8LeFfiNqus6n8SfBuleLfBunaJ4H1m9nvND1F9lrqMiQWjNa2%2B7HmSTiNbcMpm8oMCdj4a/tufs3fFf4jXPwn8M%2BL9Ws9ft9LudThsvE/gzVtEW/sbeRI57uyl1G1gjv4I3liDy2zSIvmISQGUnyj9hT9hL4sfsw6/8ADjWfHniDw1dnwd%2Byl4R%2BGN%2B%2BkXM8rNq2lvM1zNF5kEe61bemxmKu235o0wK8a%2BGn/BKv9sbxP8UfC/ib9qb4w2eqRaf4A8V%2BF/GniaD4v%2BJNavPEUur2KW39p2umX0Men6EcqWNpaKUXKgTOI1WgD6l8J/8ABRf9kfxrosfirQfHeuf2Hcarpen6f4lvfh/rdrpWoy6lex2VlJaX09mlteQS3M0UYuIJHhBlQs4VgT6X4W%2BLvw88a/EDxT8LvC/iH7XrnguSzj8T2iWkwWxkuoPtEEZlZBG7tCVkKIzMiyRlgokTd8w%2BOPAnxF8K/wDBPbxp8CP%2BChnif4VeCPAWg/DSLQLb4meHfFt2GadI0trXUntLqzgTTZlmFvJDBHcXTGcoiOTtDdr/AMEr/h98WPDf7ImlfFX9oqwS3%2BJ3xYvpfHXxEhW3aL7Pf36xmG02N8yfZbGOys9pyQLXBoA%2BjaKKKACiiigAooooAKKKKACiiigAooooAKKKKACiiigAooooAKKKKACiiigAooooAKKKKACiiigAooooAKKKKACiiigAooooAKKo%2BJfE3hvwX4evvF3jHxBY6TpOmWr3Opapqd2kFvaQIpZ5ZZHIWNFUElmIAAyTWX8MPi98J/jd4VXx18GPif4d8X6I87wprPhfW4NQtGkTh0E0DshZcjIzkZ5oA6KvF/j14/8A2i/%2BGi/AvwI%2BAvjPwV4fTX/BXiXXtX1Pxf4Lu9aJOnXeh28MMMdvqVj5Yb%2B1JWZmZ8%2BWgAXkn0H4X/G34M/G/T77V/gt8XPDHi%2B00y/ax1K68L6/b6hHaXSgFoJWgdhHIAQSjYYZHFeY/EXW0sv%2BClfwg0SRR/p3wT%2BIZRu%2B6PVvBpx%2BRY/hSbS3LhCVR2j2b%2B5XZf8A%2BEH/AOChf/R0HwZ/8MPq3/zUUf8ACD/8FC/%2BjoPgz/4YfVv/AJqK9mopkHjP/CD/APBQv/o6D4M/%2BGH1b/5qKP8AhB/%2BChf/AEdB8Gf/AAw%2Brf8AzUV7NRQB4z/wg/8AwUL/AOjoPgz/AOGH1b/5qKP%2BEH/4KF/9HQfBn/ww%2Brf/ADUV7NRQB4z/AMIP/wAFC/8Ao6D4M/8Ahh9W/wDmoo/4Qf8A4KF/9HQfBn/ww%2Brf/NRXs1FAHjP/AAg//BQv/o6D4M/%2BGH1b/wCaij/hB/8AgoX/ANHQfBn/AMMPq3/zUV7NRQB4z/wg/wDwUL/6Og%2BDP/hh9W/%2Baij/AIQf/goX/wBHQfBn/wAMPq3/AM1FezUUAeM/8IP/AMFC/wDo6D4M/wDhh9W/%2Baij/hB/%2BChf/R0HwZ/8MPq3/wA1FezUUAeM/wDCD/8ABQv/AKOg%2BDP/AIYfVv8A5qKP%2BEH/AOChf/R0HwZ/8MPq3/zUV6j4zG/QxAxOya%2BtIpQDjcj3Masv0Kkg%2BxrzHX/2oP8Agn74U1298LeKf2iPg5pup6bdyWuo6dqHi7SoZ7WeNikkUkbyhkdWBVlYAgggjIrKrXoUEnUmo37tL82juwOV5nmk5QwWHqVXFXapwnUaW12oQm0r6XaSvpe%2Bgz/hB/8AgoX/ANHQfBn/AMMPq3/zUUf8IP8A8FC/%2BjoPgz/4YfVv/moqv/w1/wD8E4P%2Bjovgj/4W2j//AB2regftQf8ABP3xXrtl4W8LftEfBzUtT1K7jtdO07T/ABbpU091PIwSOKONJSzuzEKqqCSSABk1ksdgW7KrD/wOP/yR6E%2BFeKacHOeX4hJJtt0K6SS1bbdBJJJNttpJJttJNjP%2BEH/4KF/9HQfBn/ww%2Brf/ADUUf8IP/wAFC/8Ao6D4M/8Ahh9W/wDmorR/ar%2BJfwq/ZQ/Zv8a/tJeKfhcuraf4K8PXGq3Wm6RogmuLlYlzsRY42IycZcjai5dyqqzDn9J/az/Y/wBc8by/DXS/DWvy%2BIbbw4uvahov/CmtdW60%2BweO7eKW6jbTw1q0v2G5WKOYJJM8YjjV3dFbqPBL/wDwg/8AwUL/AOjoPgz/AOGH1b/5qKP%2BEH/4KF/9HQfBn/ww%2Brf/ADUVS0z9pz9mDxNJ4d/4RXTLBDrPjqbwre2HiXwlqOj6jY30ejXWrmFrK5sBMkptbdZlW4W3jeGTzFlZjFHM34Kftf8A7C/7QWjTeI/ht4m0v%2BzovD%2Bn66l/4i8I3eiwXOl3zMtrewSajbQLc28jqUEsRdQ%2BEJDECgC//wAIP/wUL/6Og%2BDP/hh9W/8Amoo/4Qf/AIKF/wDR0HwZ/wDDD6t/81FQftofEq6/Ze%2BCF38afAv7O/hnxfFpF3C2u2Wo6yulfZ7Fm2vPE62dz50oYoFiKoG3HMiAZq9%2B2F8TPBX7KX7Nnir9oIfC3w7qp8N2kUwsdTu49NtpPMnjhzLdeRN5Ea%2BZuZ/LfCqeKAIP%2BEH/AOChf/R0HwZ/8MPq3/zUUf8ACD/8FC/%2BjoPgz/4YfVv/AJqK4jx7%2B1t4O%2BHH7G7ftM3Xwo%2BHHi3W9RFzF4Q8OfDTxpHrOm6/cxpNKEh1NrCH92kNvPPPILdvIitp2CylNrTfET9ovxD8P/Bvgn40zfsq%2BD7nwD4n/wCEYg1HUP8AhLAmr2t3rV5b2kcVrYf2cY7wRSXUBYtcwO679kbMoVgDsf8AhB/%2BChf/AEdB8Gf/AAw%2Brf8AzUUf8IP/AMFC/wDo6D4M/wDhh9W/%2BaiuC%2BHn7Y3gvxj8dtL%2BHGufAfwvpPhvxT4%2B8UeC/B2tf29FNql5rGgfbDei5037Iotbdk0%2B8kimW4lLIsDOkfnpjmtK/wCCh3gfxXpHjrWvBv7L2kz22keOfDXhz4e3upaxFa23ihdbmigs9SmkFq/2Czd5PMRwLh5YGidU3yrCAD2L/hB/%2BChf/R0HwZ/8MPq3/wA1FH/CD/8ABQv/AKOg%2BDP/AIYfVv8A5qK8u8Wftiavp/7LPjD9pDwh%2BzX8Mb2X4X3viOx%2BKOj6p4/mt4dOutILeZHY3Nvotwb/AM1V3IHit3HmRqyByyI3xR%2B25a%2BAvFS6b8Qf2WvCui6Z4ePg2z%2BJlzeeK4heaJqfiKaK3ggsrb7Dt1GCCaZFkneW2LBZfKjkeMx0Aep/8IP/AMFC/wDo6D4M/wDhh9W/%2Baij/hB/%2BChf/R0HwZ/8MPq3/wA1FcN%2Bzl%2B1LZ/tH/FX4kfDfwz8J/g7DL4E1vXdIg0mP4mC41%2BW4sL97OGa%2B01NKzp9rcNGziYSzlVZMJJu4X4W/Gz4/fEzxD8Uvh/afsXfC1fEHw41vSNJjez%2BJ1xNpV9eXVol7cwy3T6DHLbtb2txZSEJbzbzdhfk2E0Adx/wg/8AwUL/AOjoPgz/AOGH1b/5qKP%2BEH/4KF/9HQfBn/ww%2Brf/ADUV51c/tTeMtU/Zfuf2mPA37JPgG5tPDEniqP4gW2t%2BPlsbewbQb24s7g2F0umTLfpK9pcvFJKtqmxFMhiZiq1fEv7dngHRPHZWP9nfQrfwTpuseDtI8Ta5rurx2Or2d94le2TT1g0z7K63ESPeWyzO1xCVIuAiSmBgQD0//hB/%2BChf/R0HwZ/8MPq3/wA1FH/CD/8ABQv/AKOg%2BDP/AIYfVv8A5qK434HftWeC/wBoj4veMPAXwx%2BG/wALbrT/AAxcavZwWr%2BP7f8A4SW5udPu3snll0dLJvstlJcxSpHcvcFmQRyeVtkGLfws/ac8La3%2BzB4i%2BP8A8Z/2f9E8Oar4Z8W6z4bu/Cvh2/TWDfalZarLpkFtZzyWtqZ5bq4SOOJDEnzzquT96gDp/wDhB/8AgoX/ANHQfBn/AMMPq3/zUVQ8D%2BOP2rPB37Vnhz4I/G74j/D3xNo3ib4e%2BIdchm8K/Dy%2B0W6tLrTb7RLdFZ7jV75JY3TVJSVCIwaJCGxkG1%2Bzn8S9M/aI/ZJ0f9oW8%2BEWmeENX1fRLm6l0iwu0u/7NuYXljKpdCGEygPFkP5aZ9Kl8cf8pC/hf/2Rnx5/6dvCFAHs1FFFABRRRQAUUUUAFfOPwm8Vft3/AB10fXvHfhf43/CTQNLt/iF4q0PS9Kv/AIP6pf3EVrpevX%2BmQtLcJ4igWWR47NXZlijXc5AUACvo6vGf2D/%2BSIa5/wBlm%2BI//qa63QAf8IP/AMFC/wDo6D4M/wDhh9W/%2Baij/hB/%2BChf/R0HwZ/8MPq3/wA1FezUUAeM/wDCD/8ABQv/AKOg%2BDP/AIYfVv8A5qKP%2BEH/AOChf/R0HwZ/8MPq3/zUV7NRQB4z/wAIP/wUL/6Og%2BDP/hh9W/8Amoo/4Qf/AIKF/wDR0HwZ/wDDD6t/81FezUUAeM/8IP8A8FC/%2BjoPgz/4YfVv/moo/wCEH/4KF/8AR0HwZ/8ADD6t/wDNRXs1FAHjP/CD/wDBQv8A6Og%2BDP8A4YfVv/moo/4Qf/goX/0dB8Gf/DD6t/8ANRXs1FAHjP8Awg//AAUL/wCjoPgz/wCGH1b/AOaij/hB/wDgoX/0dB8Gf/DD6t/81FezUUAeM/8ACD/8FC/%2BjoPgz/4YfVv/AJqKP%2BEH/wCChf8A0dB8Gf8Aww%2Brf/NRXs1FAHjP/CD/APBQv/o6D4M/%2BGH1b/5qKP8AhB/%2BChf/AEdB8Gf/AAw%2Brf8AzUV7NRQB4z/wg/8AwUL/AOjoPgz/AOGH1b/5qKP%2BEH/4KF/9HQfBn/ww%2Brf/ADUV7NRQB4z/AMIP/wAFC/8Ao6D4M/8Ahh9W/wDmoo/4Qf8A4KF/9HQfBn/ww%2Brf/NRXs1FAHjP/AAg//BQv/o6D4M/%2BGH1b/wCaij/hB/8AgoX/ANHQfBn/AMMPq3/zUV7NRQB4z/wg/wDwUL/6Og%2BDP/hh9W/%2Baij/AIQf/goX/wBHQfBn/wAMPq3/AM1FezUUAeM/8IP/AMFC/wDo6D4M/wDhh9W/%2Baij/hB/%2BChf/R0HwZ/8MPq3/wA1FezUUAeM/wDCD/8ABQv/AKOg%2BDP/AIYfVv8A5qKP%2BEH/AOChf/R0HwZ/8MPq3/zUV7NRQB4z/wAIP/wUL/6Og%2BDP/hh9W/8Amoo/4Qf/AIKF/wDR0HwZ/wDDD6t/81FezVQ1zxV4Y8Mw/aPEniOw0%2BPGd99eJEMfVyKTairsTlGKu3Y8o/4Qf/goX/0dB8Gf/DD6t/8ANRR/wg//AAUL/wCjoPgz/wCGH1b/AOaitjxL%2B2x%2Bxv4NLr4q/av%2BG%2Bnun3orrxtYJJ9Ahl3E%2BwFeaeMf%2BCxv/BNPwOrf2t%2B1bolyy9E0axvL/cfQG2hcfjnFcVXM8tofxK8F6zj/APJHBXzfKsN/GxEI%2Bs4r/wBuv%2BB2f/CD/wDBQv8A6Og%2BDP8A4YfVv/moo/4Qf/goX/0dB8Gf/DD6t/8ANRXhF5/wcHf8E37a5eCHxh4puFU4WaHwpMFf3G8qfzAp2mf8F5f2U/Fd4th8Mfgh8Z/GErnCJ4Z8BpOWPsGuFJ/KuP8A1jyG9liYN%2BTv%2BSZbzHBqHO5O29%2BWpb5P2Wvyue6/8IP/AMFC/wDo6D4M/wDhh9W/%2Baij/hB/%2BChf/R0HwZ/8MPq3/wA1FeHa3/wV1%2BLNo0kmif8ABKD9o%2B4hBPlSXvgeeAsPVgqSbfzNcpP/AMFkf2u9TlaDwZ/wRu%2BL96wON14l7Aqn3I01wPzqZ8R5RB255P0p1H/7jNsPjcrxMbrFUo/4puL%2B50rn05/wg/8AwUL/AOjoPgz/AOGH1b/5qKt/srfEb40%2BMNY%2BKHgT46a/4X1bVPAPxCi0Oz1Xwn4audJt7q1l0HR9TVnt7i9vGWRZNRlQsJdpWNDtU5z8tQ/8FJP%2BCrviM/8AFL/8Eh9XtN33f7X1%2BRMfXzIYv6V65/wS/wDG3xt%2BIsXxx8ZftF/C2DwV4yvfjNEdY8M292s6WQXwn4cSHDqzBt8KxSHk4LkcYwOnBZthcfVcKSnor3lCcV98ktfI29pg5O1KvCb7R5387ulCP/kzfl1X1JRRRXpjCiiigAooooAKKKKACiiigAooooAKKKKACiiigAooooAKKKKAOc%2BL/jLSfh38LPEPj3XPBms%2BI7TRdHuL2fQPDuhyanf6iIoy/wBntrWMF7iZ8bUjA%2BZiBx1r5W%2BA1t40%2BMP7N/xo8QW%2Bi%2BLPDnxW%2BOUWq3cmmaj8PNd0W08O339hQ2NjaLPf2VuJDDBBbCS8OFnuPN8shVSJPsyigD5R/YL07UPEPxq1v4m%2BHvgx4o8DeGLX4K%2BCfCTaZ4o8KXWjSNqunS6vJPBFBcxxmWO1hu7eIXMYaCTeVikcREjJ%2BL1z8U/D3/BZL4Ap438a%2BH7/AEXW/h18SLfwxp2leGp7K6sY1bw3NIl1cSXsyXjMYkKtHDbhdjZV9w2/YlfFv7a2sNov/BYv9iuVnxHc6H8TbWT332Gj7R/30Frlxs/Z0Obzj%2BM4r9T3uGsN9czX2XenXf8A4DQrS/8AbT7SooorqPBCiiigAooooAKKKKACiiigAooooAKKKKAMvxh/yCYf%2BwrY/wDpXFXC6/8AsTfsZeK9dvfFPin9kf4Y6lqepXcl1qOo6h4B06ae6nkYvJLJI8JZ3ZiWZmJJJJJya7rxh/yCYf8AsK2P/pXFXzt4/wD%2BCyn/AATc%2BF/jvW/hp46/aO%2Bw634d1e50zWLL/hENYl%2Bz3VvK0Use%2BO0ZH2ujDcrFTjIJHNcOOrZbRhF4yUEm9Ofltfy5k9bdio8SVOG/3sMa8Nz6XVWVLmtra8alO9t7Nu29up6J/wAMD/sK/wDRlnwl/wDDc6Z/8Yq3oH7E37GXhTXbLxT4W/ZH%2BGOm6npt3HdadqOn%2BAdOhntZ42DxyxyJCGR1YBlZSCCAQcivGf8Ah%2Bb/AMEsv%2Bjov/LJ1z/5CrX8A/8ABZT/AIJufFDx3ovw08C/tHfbtb8RavbaZo9l/wAIhrEX2i6uJViij3yWiom53UbmYKM5JA5rz4Y3hhzSjOje6tb2d79Lab3tYr/iJuJr/unnk5c2lvrdV3vpa31h3ve1rO97Wd7P2X9pr4J2X7Sf7Onjv9nvUNfl0mHxv4R1DQ31WCASvZ/ard4RMEJAcoXDbSQG24yM5ry/xF%2BxN8QvH%2Bg/F2Xx78fbWLxJ8W/h3pvhm%2B1rwn4Vm02HTZLMaiFuYopL6eRkcX4DRGYHETYkHmDZ658dfjD4c/Z9%2BD3iP43%2BMtM1G60bwrpUup6ymlQpJPFZxDdPMFd0DLHGHlYZztjbaGbCny/4z/8ABRD4O/BbS/F2uap4b1PULHwV4ts/DesaiPEGg6VaPf3GmxaiEhuNX1Kzhk2QTwBgH375gqK%2ByQp7xmedfBH/AIJTRfCLxFD4mh%2BJPhCw2/FweOX0HwF8L49A0iBh4RvPDhs7a1S8lMIb7ULtpWeRmdGUj5w6ehfA39ijxD8Ao/Al34R%2BLllc3/gb4G6V8OreXUPC7tDd/Y5IGN80aXasu9YWAhDnYXB8xtu1uUtf%2BCjuk%2BKfH0d/4JuLS48Ba54M%2BEmu%2BEdVi0KSe8uv%2BEw8QatppWZHu4VjjEVnZlWALwNJM7Jc4WCrHg3/AIKNH4mftFeD/BHhD4P%2BJrLwD4j8FeLNftPFmqaEs7eIYdJuNOhjn0uOyuZpzG/2qVvKnt0nmDQNChBOQD0j9tv4AfEz9qH9nrVvgb8MfipoXg6fXZI4tT1jXvCE2tJ9kUl2jihiv7MpKZFiIkaR1Cq6%2BWS4ZOi1Pw3%2B0Td%2BCDptn8VPBUXiH%2BxrNF1Sb4f3UlkNSSXdcXBtf7UDm3kQBUt/PEkTAsZ5eFGN%2B2B8Qfi/8OP2WvGPxb%2BAmoeHbTxB4c8M3etWreMtDury0aK2t3neN7eG4tpd7Km0fvE2k5IONpl%2BIPxX%2BJGkfsc658cvAPhaDVfF9r8M7nXdF0SKxmnivNSXT2uIbcQxsJZFeYKgRW3sDgNkg0AeQ6x/wSu%2BHvxH%2BHXiiy%2BNHxE1a%2B8b%2BKNY17Vn8VeCNT1bwvaafearZWtlMILGw1FS9v5VlbF4biebzXEzs2Znqaz/AGB/jN4b%2BIHwn1Hwt%2B0loN74P%2BEvhez07QvCXjfwTqOsyf2iitFc6wLxtajY3b27GCEzJOLVHl2bvMapPhv%2B2r4tuvgBqWt6v4y0Hxl8TZvEVv4e0LwdZ/DfV/B1xBrN1bJLb2V5p%2Bq3NxdxoqmW7kucKv2OKSVUYRFm87sP%2BChP7V/jL9nXwj8SvA2ifD9PENl%2Bzu/xT%2BIMGo6Nem01IqAI9L09VvQ9kZjDef6TM115OyIGKbexUA9S8X/8E6fBnxc/aOvvjZ8Z4fA95pzwalHZWfhTwA2i61dm902fS3bU9ZjvJJ70x2N3eQxeUlts%2B0F%2BWRCuf4S/4JkeDvhN/wALUf4UeNTfxfEfT9HsLfQvi3NrPjTR7G2skWN4Z7TUNW/0xZEDBf3kRiBVQWRdhz/Af/BQw/Fj9ra%2B%2BFugeP8Aw/4b8KaP4jsPD4s9b%2BH%2BrXd1r1/daNbaoqJq8U8en6ZKVvI447WZZp5zbysoCvGaZ%2BzX%2B2B%2B1B8dD4RTUU8BWX/C7PgtffEX4SvDoN6RoFtDPpiraaqDen7e5h1vTpC8H2QbkuECgbXoA6Tw1/wTr8O%2BHf2btK/ZytfGen2unz/Emz8X%2BOBo3hWOys9Z8jUY7/8As22tI5tlhZ7re0t1j3TYtYPKcyNI0p1P2lv2H7D9p74y%2BGfHHja48BjQvD93pt03m/DZJ/EzvZ3ovRbQa291/otnLLHEssK2xd085RKvm5XzWX9vH42W/wCyT8G/iv4u8WfDfwbqfxA12603xf8AEPxHoV2fDPh/yIb90ka2OoRPH9oltIoIxLeqqvNjfI%2ByOTlrD/grbf8AxA0zwEdI8VeGfAH2/wCGsPi/x1rniT4fa1rtnaxtqNzpzIqWc1udOtFmsbx5NQvXWOBDbh0JkYoAfRNl%2BzV8UNf/AGmtE%2BPnxZ%2BLnhzUbDwausp4K0Pw14Fk0y5hTUCist9eS39z9s2RRqMRRWyPJiVlJVFXn9W/Yx%2BLmmfso%2BKvgV8JP2mU8M%2BMvG3i3U9c8S/Ec%2BFZJpZjqGpPdXMMUEV9DJbkWzLYxSpceZDFFGyEOisvD2f7eXxvvP29R%2BzW%2BlaBb6BN8QrrwxFbT%2BD9SDJBF4ebVE1Bde%2B0jTri5aZVjOjJGLxYnaYkJE7Vm%2BM/24/2mv2e3%2BOer/GHxP8ADnxZonwr0/wxpdhqugeCNQ0NP%2BEo1i4VBaXXmanqBNvBBeaTPI0YEhS%2BO0EoNwB1vxM/YW%2BPXjn4O/DL4JaB8c/hloXhvwLeGbXPCNr8HL06D4hit/L/ALLtXtF15JYre2ZPMeFriVLiRYi4VEaKTf8Ajl%2Bw1L%2B0Z8YPB/xC%2BKeqfDu4sfDNzpF9c3Fr8LAviK4urC7S9WGDV5b2RrSwkuoone1EDuyCSMzkSMa848afts/tC6b8J/CGv%2BAPiJ4e8Q3d18TbzQPiL4j079mvxbOfClpFotzfIt14dj1A6lazGZbJDLNII/KvYpNgV1Y9x8c/2lPjf4B8D/D/AOOvwr%2BKHwz8WeFPFVz4Z0/T9FtPDF6194yutSuo0kl0u6TUTHax/ZZDdRo8F1tjglaSVY1aRQA%2BGP8AwT%2B1H4W/F/TvGehfFPR18M%2BF/E3izxH4L8PweDDFeWup%2BIJp57z7bfC7IvbZZLqcxwJDbtgQB5JDCrGv8J/%2BCemtP8ONW%2BGv7WXxcsPGttP8TL/xz4fvfh3p%2Bt%2BCLvStUvbq8uZz9otNbnmkQNeusYEke1R8/mthlZ8NP2tfjJqf7VPjb4TfFTXNC0Kw0/W9UtPh/wCFNR%2BF2s6bceJra1s4rgT23iC6u/7Ou2yZy8UEBdEiZjtCM1eKfDX/AIKrftJ%2BKPgd4u%2BIGqeHPDNxqeneF/BOr2QHw71nTG0x9b1ZrG7ijsLm7a48SxWsQ86C605o4tSkX7PbZkcYAPqP9mv9l7SP2OP2Q1%2BAGi%2BM9V8QRaRp%2BoyNqusajd3EszTPLKcfarid41G8AIJCuQSACxpfHH/KQv4X/wDZGfHn/p28IVlfsnftBeN/2kf2Y/E3jX4gR6cdQ03Wtd0b7Tp%2Bg3ejNdR2sjxJNNpd9JJd6XMwHzWtw5lUAOcCRQNXxx/ykL%2BF/wD2Rnx5/wCnbwhQB7NRRRQAUUV5h%2B1t8ZPGXwY%2BGFhffDWz0yXxL4k8YaL4a0CTW4JJbK1uNQv4bY3U8cUkbyxwxySTeUskZlMQjDx796gHp9FfMN/%2B2P8AGfwz%2ByH8RPiRrvh7w9e%2BOfhv43m8La3fWGm3SaMAt9bRf2y1t50k6WsNldx308AmZkEM0YmOBLWN8Kf2y/ir8dfgz8Q/FngP9o/4NWSfCTxpc6Z4q%2BKVz4Qvbvw1q2npo1jqovLS3TV42gRUv1ieQ3kybrWVl3K67QD63rxn9g//AJIhrn/ZZviP/wCprrdb3wf%2BPia5%2Byj4T/aS/aDsrD4dPqngrTtb8VWmv34tbfQpZ7eOSWKaW42eWEdyv7wKwxhgDkVyf/BOnxP4a8a/s3X3jDwb4hsdX0jVPi38Q7vTNU0y7S4truCTxnrTRyxSoSsiMpDBlJBBBBoA90ooooAKKKKACiiigAooooAKKKKACivOvi3%2B13%2By58BvMj%2BMX7QXhDw7PH96y1LXoEuT/uwbvMY%2BwU14jqH/AAWd/ZB1i5k0v4EaL8Q/irfoxQWfw98AXt0Wk7LumSJfxBI%2BtcFfNMtw0uWrWin2um/uV3%2BB5mJznKcHPkrV4KXbmTl/4CuaX/kp9Z0V8iR/Hj/grT8dnEvwZ/ZC8EfCrSWOYtU%2BLviSS8u509RZ2ADwN22yZ%2BtTH4a/8FpNU%2BW%2B/aW%2BCGlburaZ4OvZyv085ufxrD%2B1lPWlQqyXdQsv/JpRf4I5/wC3Iz1o4atNd1Tsn6c8oP8A8lR9a0V8T/EH4Wft6eBbD%2B2Pjz/wWo8JeBbMqWZB8MNFtI8eomup1bFeAeLv2jvCNtq7eFov%2BC3HxW8eakf9Zpfwt%2BGccsrr3KSwRmIfUOa5MRxBHCu1Wi4v%2B9OlF/dzt/gfR5NkfHnEcebKcixVeP8ANGMeVes%2BbkS73mrdT9V6yvEnjvwP4MQSeMPGWlaUrDKtqWoxQAj/AIGwr8qG%2BH918Vfk074E/t7fFOSU4QfEbxeNA0yYn%2B45xsjP6Vq%2BGP8Agk78dvFshvvDP/BPL4FfD1Jjunk%2BJfxA1rxRqH1Bt5zAW9cqBXL/AKw46t/u%2BGcvnN/iqcY/%2BTHvf8Q%2B8QKeuPp4PBL/AKicfQUv/BdD6zUf/gPlufohqf7Yv7I2iy%2BRrP7U/wAOLR842XXjiwjP5NMKpy/ty/sTwRmWf9sL4Woo6s3xB00Af%2BRq%2BMNL/wCCF/xJ8SR/Z/HXxl%2BEugWcn/HxYeD/AIB6XNIR6JdXm6WM%2B4BNdr4C/wCDeH9gLw2TdeOB4u8WXMh3THUNaSzh3d9kdlHDsX2ycetXDHcVVZe7hYJd5Ta/Bcz/ACOfE8MxwNJutneDnP8Alo0sfW%2B%2Bbhh4fddM9/1r/gpT/wAE/tBhae%2B/bJ%2BHMir1Fl4rtrk/gIXYn8K858Y/8FxP%2BCZXg%2BNwP2i/7VnTpbaN4b1Cct9H8gR/m9a3hv8A4Izf8EzPCwX%2Bzv2U9JmK99S1a/vM/Xz7hxXeeHP%2BCev7CfhNlk0T9j74bJIn3JZ/B1nM6/RpI2YfnXQ1xVUW9CH/AIMl/wDInjLB0eb95jXb%2B5htf/K2JSX3P0Pk3xr/AMHKH7Hmku9t4C%2BEXxB16VThXmtLOzikPbaWuHf/AMcrmT/wXk/ap%2BJKmP8AZ/8A%2BCYninUy3%2BouHnv7/wAz0Pl21iMf991%2Bjvhb4X/DTwMAPBPw70LR9owv9laRDb4H/bNRW7WTy3iKt/Exyj/gpRX4ycjtjh%2BGIL95LF1X/wBfMNQX3UsPWlb0nc/L64/bJ/4ODPjDA0Hw9/Ym0rwksg/cS3OgfZ5lz/ebU71UH/fuqNt%2Bzd/wcV/F3M3jT9oe38J3EvV28U2NpDGPTy9MtJDx6gk1%2Bp9FS%2BGpVXfEYytP/t9RX3RSN44jheivcyqFR96%2BIxlb/wAlVbDU36OB%2BbPhr/glF/wVe1RlvPHv/BXTxNps7f6yPRtV1W6jH0DTwA/98iu40j/gkn%2B2G5RPGP8AwWR%2BMd3GPvLpL3Nkx%2BjG/k/lX3dRXRT4Zyqn/O/WrVf/ALejysXHLMW9MDQprtCnKP54iT/E%2BLtU/wCCLHgnxtYpZ/F39u39o3xWq/fg1T4jq8DevySW7kf99U/QP%2BCBn/BNfSgG134Ya9r0ucyT6t4wvQ8h9T9nkiH5AV9nUVv/AKvZJzc0sPGT/vXl/wClSkebTyvLKStGhDurxjK3o5%2B0a%2BTPmLQP%2BCNH/BMvw2wbTv2UNIkI/wCghq1/dj/yPcPXa6B/wTm/YI8MkNpX7HPw3LL917vwhaXDA%2BuZUY5r2iiumnlWV0vgoQX/AG5H/wCRPawmYY/L3fCVZUn3pv2b%2B%2Bmqb/E5bwn8Dfgn4CdZPAvwe8LaKy/dbSfD9tbEfTy0FdTRRXZCnCmrQSS8kl%2BSRliMVisZU9piKkpy7ylKT%2B%2BUpP8AEKKKKswCvGf2X/8Akt/7R3/ZZrH/ANQrwvXs1eM/sv8A/Jb/ANo7/ss1j/6hXhegD2aiiigAooooAKKKKACiiigAooooAKKKKACiiigAooooAKKKKACiiigAooooAK%2BB/wDgp3qv9g/8FTf2H9V3bd2t%2BLLTOf8Anu2hRY/HdX3xX50f8Fm7iXSv28v2L/E6NhNK8cX9xcH/AKZHV/DUbD/x%2BvMzmXJltSXblf3Tpn3PhrRWJ42wlF/bVaP/AIFhcWl%2BNkfovRRRXpnwwUUUUAFFFFABRRRQAUUUUAFFFFABRRRQBleMP%2BQTD/2FLH/0rirVqG/sLTU7R7G%2BgEkUgwykkd8g5HIIOCCOQRVD/hD9J/5%2B9U/8Hl3/APHaANWisv8A4Q/Sf%2BfvVf8AweXf/wAdo/4Q/Sf%2BfvVf/B5d/wDx2gCzr2haP4o0O98M%2BItNivNP1G0ktb6zuE3RzwyKUeNh3VlJBHoa%2BdfBP/BMH4UfDT4R%2BA/hh8PPjV8R9K1D4fa3qeqaX45XU9PudbvJb9JoroXUlzZSQSbopvKV1hSWNIYhG6bST9A/8IfpP/P3qv8A4PLv/wCO0f8ACH6T/wA/eq/%2BDy7/APjtAHg3gb/gmJ8A/h/4a8PeFdE8W%2BMJLbw14a%2BHmh2DXepWzyPbeDdVu9U0tpG%2BzjdJLPeSrcNwHRUEYhYF2tfDb/gnd4F%2BFPxE0v4geEvjr8RFXwv4b13QvAehXF5pslh4Ws9VmtppktENjvlMT2kHkm6e42Kmw7k%2BWvb/APhD9J/5%2B9V/8Hl3/wDHaP8AhD9J/wCfvVf/AAeXf/x2gDm/2gPgm37QHwO134G3nxS8SeGbfxHpT6bqeveG49PN%2B1tIhjnRftlpcQL5kZZGPk5AclCjAMKngr4F%2BJvBHwr0v4XWv7R/ji8OleGbzR4dfvLXRRfSNK0f2e9fytOSD7RaohjhCxLCyyMZ4rh9rr1//CH6T/z96r/4PLv/AOO0f8IfpP8Az96r/wCDy7/%2BO0AeR6T/AME%2Bv2edXstcH7Regw/GvUPEWsWupapqvxc8P6TqTGa1tntrURW0NlDaQCKKWZVMUCMftEpZmLsTxtn/AMEk/wBmvw38GvDHwJ%2BGfibxV4M0HQPBN54P1ZPCcmnWknibRLx45Lu01D/QmUmV0Lm4t1guFaaYxyp5r5%2Bjv%2BEP0n/n71X/AMHl3/8AHaP%2BEP0n/n71X/weXf8A8doA8o1n9hb4Yat8YD8UIfGfiax0ufxXp3ijU/AVhNZx6LqGuWFrBa2eoSj7MbpXjitLMCKO4SBmtImaJmDFqnwk/YI8E/BK4vLzwJ8ZPHMc1t4RufDHgGS7m0yYeA9JnmWZrXS0axKMokitSDerdnbZ26ElE2n2L/hD9J/5%2B9V/8Hl3/wDHaP8AhD9J/wCfvVf/AAeXf/x2gDx34V/sS6/8Gf2ebL9njwF%2B2f8AFe1t9O1iS8sfE72vhptTht5FffYDOjfZmgMkjzbmgM4c8TBAEGd46/4JpfArxb4H074beHvF3i7wpocXgA%2BB/EVj4d1C2LeJ/DzFmexv5ru3nmO4yXBNxA8Nzm7nPnZcke5/8IfpP/P3qv8A4PLv/wCO0f8ACH6T/wA/eq/%2BDy7/APjtAHkmmfsH/DjSvjNF8Vbf4j%2BMG0q18bT%2BMbL4fPdWX9iW2vTWklrJfLi1F4SVllfyWuTbiWQyCIMFI1X/AGMvhPc/CLxv8INS1HWruDx94svvEuta1Pdxfb49Snu1uYJ4ZFiCKbQw2sdvuRtkdlAH8wqzN6N/wh%2Bk/wDP3qv/AIPLv/47R/wh%2Bk/8/eq/%2BDy7/wDjtAHkuifsYan4U8O6zZ%2BDf2t/ihpPiDxR4mfXPF/ja2j8PyalrlybG2sUWVJtJe0hjjtrO1jQW1vCR5IYks7s2Jaf8E4/BXhrx98O/G3wy/aA%2BIvhW1%2BF3gmDwt4R8N6e2jXthbWiECab/iZabdTLdXEaxwzXCSpI0cYUFdzlvdf%2BEP0n/n71X/weXf8A8do/4Q/Sf%2BfvVf8AweXf/wAdoA8y8U/sc%2BH/AIkfFG2%2BIfxg%2BMXjPxfpul3Wo3Ph3wVrD6bDpOjzXtjcafNJEbSyhupSLO8u4F%2B0XE21Ll8fNtZeK03/AIJhfDCHwy%2Bi%2BIfjr8Sdc1Gy0vQdO8I%2BJdU1DTRf%2BF7bRr5b/T0s/JsI4ZClwkbu93FcvMI1WVpFyp%2Bgv%2BEP0n/n71X/AMHl3/8AHaP%2BEP0n/n71X/weXf8A8doA4X4d/AXQPgB8JfFukab4s1vxDqXiC71DW/EniTxHLbte6pfzQqjTSC2hhgTEUUMSpFFGipEgC5yTj%2BOP%2BUhfwv8A%2ByM%2BPP8A07eEK9RPgzQ3ws7X0yZBMVxq1zIjezK0hVh7EEV5d44/5SF/C/8A7Iz48/8ATt4QoA9mooooAK4348fBLw1%2B0D8Opfh34m1jU9L26lY6npetaJNHHe6XqFldRXdpdwNLHJHvjnhjbbIjxuAUdHRmU9lRQB5T8Of2WB8Kfh7q3gbwX8evHEF1rkl5e6l4mlXSZdQm1a6unuJ9VJewMPnkuIxF5X2VIoo0SBQtcR46/wCCbvg3x58O7TwLe/tE/Em1um%2BIMfjTxR4jgfRZrvxXq8UUcVvJqUNzpktnLFCsFp5UEdvHEhsrYhf3S19G0UAZ/hTRtR8O%2BGrHQtX8Wahr11aWqRXGtatHbpc3rqMGaVbaKGEO3UiONEyeFA4ryn9g/wD5Ihrn/ZZviP8A%2BprrdezV4z%2Bwf/yRDXP%2ByzfEf/1NdboA9mooooAKKKKACiivmj4/f8FMvhp4D8cSfAX9nDwZqXxj%2BKJyg8IeDHV4LBgcFr%2B9wYbRFPDZLMpxuVQc1zYrGYbB0%2BetKy2XdvskrtvySbOTGY/CZfS9piJqKei6tvtFK7k/JJv8z6Wd0jQySOFVRlmY4AHrXhfxq/4KY/sKfAGWSw%2BIP7Snh1tRRtn9j6FcHU7zzOgQw2gkdGJ4G8L1ryuL9hf9qz9saVdc/wCCjXx6ay8NzMHT4M/DC6kstM2dRHf3gPnXhxjcgIUMMo%2BDivUJfBP/AATu/wCCcfgweNrjwr8PvhpYxqUj1SSyiS9uiByiSENc3L4/hUu3tXnTxmY1YOpCMaNNfaqvW3flTSX/AG9O/ktjmwUOJ8%2BxUMPluGtKbtFSjOdWTf8ALRp3fopSv3S6edH9vz9sD49D7N%2Bxf/wT88StYzcQ%2BM/i7dJoNgo7SpbZM9zGe2wg47ejU/4J7ftQftGMNR/b3/bY1zUbCU7pPh58Kg2iaMo7xSzgfaLyP/f2sOPmpf8Ah5D8c/2h2%2Bwf8E//ANjDxL4rspjiL4geP86DoIXtNF5v767TplUCPz0p4/Yt/b6/aB/0j9rn9vm98O6bN/rvB3wO0/8AsqFQeq/2jMDcyKehVl6d%2Ba8y8Mb/AM/MT6fu6X/tqkvnP5n3b8Ia%2BE97jDNKeG70py5qnp9UwnPNPyr1qf8AeitS9cfs0/8ABIH9guzj1Txf4E%2BFvha4jXfb3PjC5ivb9z/eiN68s7N/1z561UH/AAWA/Zc1RP8AhHP2W/hZ8SPitNB%2B5gtvhz8P7lraNhxhpJ1iVEB6sAQBzzXcfBr/AIJb/sKfBG%2B/t7w/8ANK1jWmfzJtf8Xl9XvJJe8u%2B7LhHPqgWvfbSztNPtY7KwtY4IYlCxQwoFVFHQADgCvQoYLMoR5aSpUI9oQ5n975I/gz0sNT8JOHoezwWCr4trrKVPB0n/3DoQrVmv8AFVT9OnyQvxG/4K%2B/tAEHwH8Dfh78ENFlPF9451htb1Yp2dILUCFGPdJenTNP/wCHbn7QPxPPnftR/wDBS/4q%2BIFfmbS/Ai2/hiycf883S2DmRO3UE9eK%2BuKK3/sehU1xFSdR/wB6TS/8BhyR/M6X4j5pg/dybCYbBJbOlQhOp/4OxCxFVvzTh6LS3zV8Pv8AgkL/AME8/h/f/wBtN%2Bzrp/iLUnbdcaj4zvbjV5J2/vOt1I8ZP0QCvoDwh4F8EfD7SV0HwF4O0rQ7FPuWWkafFbRL9EjUAflWrRXZh8DgsGv3FKMPSKX42v8AifN5zxVxPxFK%2Ba46tXtsqlWc0vSLlyrytBW6BRRRXUeCFFFFABRRRQAUUUUAFFFFABRRRQAUUUUAFFFFABRRRQAUUUUAFeM/sv8A/Jb/ANo7/ss1j/6hXhevZq8Z/Zf/AOS3/tHf9lmsf/UK8L0AezUUUUAFFFFABRRRQAUUUUAFFFFABRRRQAUUUUAFFFFABRRRQAUUUUAFFee/tXWnwDvf2d/Fdv8AtQSeF18CHTc6%2BfGs8Eel7RIpiFw1wRFtMwjADnBbaOc4r5Z%2BCfjP4N/tBf8ABEbwJ8PvBP7TvgOwe2%2BAvhs61qF14qgNjaxWVrZLe22oPDJugtWaKSzuW4MayyAjcNtAH3RX5y/8F1/%2BJf8AE34O%2BMen/CO6NrGpb/7u3xL4MTP/AJEr2r/gk/LqV74V%2BK2raB4e8E6R8P7v4ob/AIbaZ8M75rvw3BZDRdLS6/su48i3We2OoLesZI4Io2uDclVI%2Bdvn/wD4LgL8W/EA1qz8XeC/D2naRpvwZ8SXXhXVNJ8Tz3l5erH4r8DPI9zbSWUKWjKFGAk1wG3NkrtG7ys9TeS4i3SEn9yv%2Bh994VzjHxLyZS2liaUX6Tk6b/Coz9MKKqaDqsWuaHZa3BjZeWkc6Y9HUMP51br1E01dHwc4yhNxlunb7tP0CiiimSFFFFABRRRQAUUUUAFFFFABRRRQAUUUUAFFFFABRRRQAUUUUAFFFFABRRRQAUUUUAFFFFABRRRQAUUUUAFFFFABXjPjj/lIX8L/APsjPjz/ANO3hCvZq8Z8cf8AKQv4X/8AZGfHn/p28IUAezUUUUAFFFeYftbfGTxl8GPhhYX3w1s9Ml8S%2BJPGGi%2BGtAk1uCSWytbjUL%2BG2N1PHFJG8scMckk3lLJGZTEIw8e/eoB6fRXzDf8A7Y/xn8M/sh/ET4ka74e8PXvjn4b%2BN5vC2t31hpt0mjALfW0X9stbedJOlrDZXcd9PAJmZBDNGJjgS1xXwy/4KEfGD486hB8DPgh4/wDhnrfi8fFPUPDEnxNtPDd5ceGbywtfDtprbX9rYx6iJZS32%2B1s9ovim9ZphIyqsbAH2nXjP7B//JENc/7LN8R//U11utH4B/tP%2BHPiH%2ByV4d/af%2BLeoaN4OtrrQVuvE82oaqkOn6XcxsYrkfaJiq%2BSsyOFd9uV2kgE4rA/4J0%2BJ/DXjX9m6%2B8YeDfENjq%2Bkap8W/iHd6ZqmmXaXFtdwSeM9aaOWKVCVkRlIYMpIIIINAHulFFFABXjX7VP7eH7PP7ItvbaZ8QvENxqfijU8LoPgTw1bG91nVJGOEWK2Q5AY8B3KoSMAk8V5t%2B1n%2B158UfHnxSk/YV/YOe3vfiRcwg%2BMvGUieZp/gOxfgzzNyHuyD%2B7h5IOCR0Fd/8Asn/sA/AX9k0zeKtA0%2B68SeOtTTd4i%2BIvimc3msalKwHmMZpCTEjEf6tMAgDduI3HyKmMxOLqyo4K1o6Sm9Yp9VFfbkuuqjF6Nt6LwquYYvHV5YfLrWi7SqS1jF9Yxirc8111UIvSTbvFePf8Kd/b9/4KB/6Z%2B0f4puvgT8LrrlPh34Qvw/iPV4D/AA398Bi2VgeYoxkglHQEBq9x8OeD/wBjb/gnF8EJn0mz8M/DjwhYBTeX1xII2upQDtMkrky3UxAIAJd26AHgVxn7Wn7eF/8ADzx1B%2By1%2Byn4Lj%2BIXxo1aHdb6DFIfsPh%2BE4/03VJlIEMShgwjyHfKjK71LY/wi/4JmabrnjW0%2BPf7eXxIn%2BM3xAgPmWUGrQhPD%2BhMSD5djp%2BPLwDj95ICWKh9itk1w04xp4mUcJH21ZaSqTfux8rrr/07ppW05pI/SMj8OsnyXCU874oxE6aqq9ONlPF1496cJWp4ei3oqtRQhKzdOnXtzHOv%2B1z%2B2Z%2B3NIdH/YE%2BGR8C%2BBpztk%2BNfxH00qbiP8A56aXpzDdP6rJKNh5DCM813HwP/4Jd/AD4deLk%2BMHxm1HV/i98Q2w0vjP4jXH25oXByBbWzZhtkU8oAGZOgevpNESNBHGgVVGFVRgAelLXoU8qpymquLl7Wa1XN8Mf8MPhXq%2BaX949TG8fYyhhZ4Dh%2BisBhpK0lTbdaov%2Bn2JaVWd%2BsIOjR6Km0AAAwBgDoBRRRXqnwAUUUUAFFFFABRRRQAUUUUAFFFFABRRRQAUUUUAFFFFABRRRQAUUUUAFFFFABRRRQAUUUUAFeM/sv8A/Jb/ANo7/ss1j/6hXhevZq8Z/Zf/AOS3/tHf9lmsf/UK8L0AezUUUUAFFFFABRRRQAUUUUAFFFFABRRRQAUUUUAFFFFABRRRQAUUUUAFFFFABXw5/wAFg9E/t%2BK/sNm7y/2Y/iPc4/646r4Pmz/5Dr7jr5L/AOCiOi/8JJ8QbrQAm43v7J3xZhUf7TTeFgP1IrjzGHtMvrQ7wmv/ACWR9JwbifqXGOW4j%2BTEYd/dXo/pc99/Zm1v/hJf2b/h94j37v7Q8EaTc7s9d9nE2f1rt68Z/wCCdWtf2/8AsFfBvUd%2B4j4aaNCzZ6tFZxRH9UNezVeCn7TBUp94xf3xic/E%2BG%2BpcTY/D/yV60f/AAGtVX5JBRRRXSeGFFFFABRRRQAUUUUAFFFFABRRRQAUUUUAFFFFABRRRQAUUUUAFFFFABRRRQAUUUUAFFFFABRRRQAUUUUAFFFFABXjPjj/AJSF/C//ALIz48/9O3hCvZq8Z8cf8pC/hf8A9kZ8ef8Ap28IUAezUUUUAFcb8ePgl4a/aB%2BHUvw78Taxqel7dSsdT0vWtEmjjvdL1Cyuoru0u4Gljkj3xzwxttkR43AKOjozKeyooA8p%2BHP7LA%2BFPw91bwN4L%2BPXjiC61yS8vdS8TSrpMuoTatdXT3E%2BqkvYGHzyXEYi8r7KkUUaJAoWucuP2AvBR8NWZ0v41%2BPdP8bWvjO48VS/FS1n0xtdu9UnsDp00kyyWL2LRtYiO2EItBEkdvAURHiR195ooA5v4O/Cjwd8CvhV4e%2BDfw%2BtJodF8M6RBp2mrczmWZo4kCh5ZG5kkbBZ3PLMzMeSa89/YP8A%2BSIa5/2Wb4j/APqa63Xs1eM/sH/8kQ1z/ss3xH/9TXW6APZq%2BcP%2BCiX7UHjf4S%2BEtE/Z/wD2d0W8%2BL/xUu20jwRaKc/2dHj/AEnVJeuyK3jJbcQRuwcMqPj3rx1408PfDjwTrHxD8W3wttK0HS7jUNTuW6RW8MbSSN%2BCqTXyv/wTa%2BG/iv44a/rH/BTf482IHin4k2gg8CaRI29fDPhdXJtreMnjzJuJncfe3AjaXcV5WY1atSUcHQdp1L3a%2BzBaSl6u/LH%2B87/ZPFzavXqzhgMO7TqptyX2KaspSX9535If3nf7J7R%2Bx5%2ByR8N/2N/g/a/DPwNE13fzt9r8U%2BJLrLXmu6iwzNdzuxLMWYnCknauAO5PkP7UX7XXxV%2BLXxWuv2Gv2BLiC58cKgXx78QZI/N07wLasSGLEcS3pGQkI%2B6w55Vtm1/wUS/aR%2BIPhKw0D9kn9ma5D/F34rSvY6FLGx/4kGnAEXeryleUWJA%2Bw9S4JUMYyp9P/ZR/ZX%2BFn7H/AMH7D4RfC7TAEiAm1jV51zdaxesB5t5cPyXkcjPJwowq4VQK55Rdaf8AZ%2BD9ynTSU5LdX2hF9JNaylq4p/zyuv1zh3Ksm4I4eoZ1jqEalWpdYPDyX7tqD5Xia8d5UozvGlTelerGcpt0qc1Uo/skfscfCH9jrwLN4Y%2BHlrcX2r6rN9q8VeLtYk87U9evDktPczHlsszEJnau44GSxPrFFFexQoUcNSVKlFRitkv6/wCC3q22fG5pmuZZ3mFTHY%2BrKrWqO8pSd23%2BSSSSSSUYpKMYxikkUUUVqeeFFFFABRRRQAUUUUAFFFFABRRRQAUUUUAFFFFABRRRQAUUUUAFFFFABRRRQAUUUUAFFFFABRRRQAV4z%2By//wAlv/aO/wCyzWP/AKhXhevZq8Z/Zf8A%2BS3/ALR3/ZZrH/1CvC9AHs1FFFABRRRQAUUUUAFFFFABRRRQAUUUUAFFFFABRRRQAUUUUAFFFFABRRRQAV88/tIaJ/wkv7XHhTw5s3f2h%2Bzz8SLbbjrvv/Ca4/WvoavGPHSq/wDwUJ%2BGCOoIPwY8eAg9/wDibeEKmcVODi%2Bqt95th60sPiIVo7xakvWLTX4o5L/gj5rf9v8A/BNX4TX2/d5egTW2f%2BuN3PDj/wAcr6Ur5M/4Ijs1l/wTw8MeEnYlvD/iDXtOYE8jbq10%2BP8AyJX1nXm5JJzybDN/yR/CKX6H2nihRjh/EnOYR2%2BtV2vR1ZSX4SQUUUV6h8KFFFFABRRRQAUUUUAFFFFABRRRQAUUUUAFFFFABRRRQAUUUUAFFFFABRRRQAUUUUAFFFFABRRRQAUUUUAFFFFABXjPjj/lIX8L/wDsjPjz/wBO3hCvZq8Z8cf8pC/hf/2Rnx5/6dvCFAHs1FFFABRRXn/7S/xxufgD8NYvFmi%2BEV8Qa1qviHS9B8N6HJqP2OO91HUL2K0gWWfy5DBCrS%2BZLII5GWKNyqSMFRgD0Civn68/bkvtA/ZM8eftC%2BLPhGLbxB8N9Xv9I8V%2BFLPXTPa217a3CxNKL426H7D5UkV21y0CtHbsztCGRo68wvv%2BCuthZfBaw%2BKs/hH4bW1rffEW%2B8Kx%2BNdR%2BMYh8BSi2077cbyHxF/ZrebG7brNB9lXddwXEOf3YZwD7Qrxn9g//kiGuf8AZZviP/6mut13PwE%2BKUvxw%2BB/g/4zTeDtR8Ov4s8M2OrtoOrri6083MCTeRKOPnTftPA5HQdK4b9g/wD5Ihrn/ZZviP8A%2BprrdAHmn/BXPxPrniT4L%2BFv2PvA2oPB4h%2BOPjSz8MxyQ/6y20wSLNqFzjuiRKFfr8sxr3rx940%2BGP7J37PuoeM9ZVNM8KeA/DO5YIsfu7W2hCxwxg9WIVI0XuxUd6%2Bdvh7/AMZQf8FbfFnxGkHn%2BG/2fvCUfhzRH6xtr%2BpAy3kyH%2B9Hbg27jsdv4wft0yyfthftV%2BAP%2BCc%2BiSNN4ctGj8bfGRoz8n9l20g%2Bx6c5HH%2BkT7Sy8MFEbjjNfNPFTh9YxkFeUpKlTXflbivk5ucn/dgzu8N8hw/FXFdbEYyTjhYc0qs1vHDYZOVVrpzTm3CHepOmtTb/AOCbvwW8b%2BJm1n/goL%2B0XZD/AIWL8WbeOfTrB8lfDXh3h7PTotwyuU2SyHALNt3DcrFvqymxxxwxrDDGqIigKqjAAHQAU6vawWEhgsNGlF36tveUnrKT827v7lskejxPxBieJ86q4%2BrFQTtGEI/DSpQXLSpQXSNOCjFd3zSd5Tk2UUUV1ngBRRRQAUUUUAFFFFABRRRQAUUUUAFFFFABRRRQAUUUUAFFFFABRRRQAUUUUAFFFFABRRRQAUUUUAFFFFABXjP7L/8AyW/9o7/ss1j/AOoV4Xr2avGf2X/%2BS3/tHf8AZZrH/wBQrwvQB7NRRRQAUUUUAFFFFABRRRQAUUUUAFFFFABRRRQAUUUUAFFFFABRRRQBzHxo0Pxb4j%2BFut6R4F%2BJWpeD9Vksy9p4j0iytLi5sijB2Mcd5DNAzMqsn7yNwN%2BcEgV8/wBx%2B0j8bE/4I/eGP2nLPxjbN8RNa%2BDfh7Uxq9zYQg3esX9paZ8mBY/J%2B0zTzlYYzH5PnSRKy7Mivoz4jfD/AMP/ABU8E6h8PvFVzq8OnapCIruTQfEN7pV2FDBsR3djLFcQkkAExyKSCVOQSD574U/YX/Zr8HfA1f2a9N8M%2BILzwPHoK6Nb%2BH9d8fa1qcdvZIytFHE15eSvC0Rjj8qRGV4RGgjZAoAAOY/4J8/FX4x/ELRfiP4W%2BOereJJNY8H/ABDOmWeneObPSYvEFhYvpWnXcSagdFUabLI8lzNLHJaFk%2BzyQK7eekyqy/8Aid4b8Y/8FNvBfgzSdN8Qw3nh74PeOI7%2BbVfCOo2NpKX1bwlg211cwRwXoG05a3eQLkbiNy59W%2BDHwE%2BGHwA0bUdF%2BGek38X9s6o2pa1qGs6/e6rf6jdmKKHzri8vppridhDDDEpkkbbHFGi4VVA4rxx/ykL%2BF/8A2Rnx5/6dvCFAHmP/AAR9/wCJf8Gfid4O6f8ACO/HzxVpuz%2B7tuI3x/5Er60r5L/4Jg/8Sf4j/tP%2BDunkftGazqIT0%2B1wwPn8dlfWleTkemVUo9uZfdOa/RH6B4p%2B9x/jav8Az8dKp/4Mw%2BFn%2BcpBRRRXrH5%2BFFFFABRRRQAUUUUAFFFFABRRRQAUUUUAFFFFABRRRQAUUUUAFFFFABRRRQAUUUUAFFFFABRRRQAUUUUAFFFFABXjPjj/AJSF/C//ALIz48/9O3hCvZq8Z8cf8pC/hf8A9kZ8ef8Ap28IUAezUUUUAFefftL/AAOuvj98NYvCei%2BL18P61pXiHS9e8N65Jp32yOz1HT72K7gaW38yMzws0XlSxiSNmikcK8bFXX0GigD5wl/YW8car%2Bz/AOLfg74i%2BO1hNqvjPxF/wlGs%2BI7Pwc8Svrw1SK%2BRvsz3rq2mhLa1tDZMxd4InD3LGQsMe1/YA%2BMeleJ2%2BNejftI%2BG0%2BJF18QL/xRqd5dfDWWXw3K91olporRR6UNUWaJ1trGFxOb1nMklzuykxjX6nooA81%2BD/7Lvw4%2BGf7LHhv9krxPp1p4x8NaF4XtdEu7fxJpkM0GpxRRqp823ZTEEJXIiA2IMKBhRXE/sFWXg/4S/sn65Y%2BHPD9jo%2Bg%2BG/if8R1stL0y0S3trO1g8Y63tiijQBY0VFACqAAAABX0BXyLaeLv%2BED/AOCYPx08XrLsksfEPxgkt2zj97/wlHiARj8XKj8axxFVUMPOo/spv7k3%2Bhhiqyw%2BFqVX9mMn90W/0Kf/AASg1XSfhd/wTZl/am%2BJl0Vv/Ft34g8e%2BOtSYDM0rXE7PLz28i3j4J659a2v%2BCUPw98R6x8KNe/bV%2BKluP8AhNvjrrB8RX2cn7FpQymm2SMeTGkGGU%2BkoBztFeOfHKHW/C//AASE%2BBP7IHgy4a28SfGTT/C3hSARD57eO7iiub6Uj%2B4qB0c9hLX3/wCE/C%2BieCPCumeC/DVkttpukafDZafbr0igiQRxoPYKoH4V89lVH2lWhTe1ClF/9xKiu36qN/nN9z7fIqT4Z8G8NBaVsxkk31eHw0YSkvSri6t5fzOjrexoUUUV9OfHhRRRQAUUUUAFFFFABRRRQAUUUUAFFFFABRRRQAUUUUAFFFFABRRRQAUUUUAFFFFABRRRQAUUUUAFFFFABRRRQAV4z%2By//wAlv/aO/wCyzWP/AKhXhevZq8Z/Zf8A%2BS3/ALR3/ZZrH/1CvC9AHs1FFFABRRRQAUUUUAFFFFABRRRQAUUUUAFFFFABRRRQAUUUUAFFFFABRRRQAV82/HD4hReEP%2BCqP7PXhS4kAHiv4U/EnT4UJ6yx3PhW7BHuEtpPwJr6Sr8/v%2BCq3jKf4Zf8FMv2KPiPGWSK013xPp17MOkNvfz6BZSOx7LibB%2BtcePr/VcK6vZx%2B7min%2BDODM8S8HgpV/5XG/o5wT/CR6b%2Bwr/xJ/29P2t/B3TyPGHh3Utn/X3pbPn8dlfWlfJf7OP/ABI/%2BCt/7SOl/d/t3wj4P1LH97ybSS3z%2BuK%2BtK5cm0wko9qlVf8AlST/AFP0/wASvf4ho1v%2BfmEwM/m8HRi/xgwooor1j8/CiiigAooooAKKKKACiiigAooooAKKKKACiiigAooooAKKKKACiiigAooooAKKKKACiiigAooooAKKKKACiiigArxnxx/ykL%2BF/wD2Rnx5/wCnbwhXs1eM%2BOP%2BUhfwv/7Iz48/9O3hCgD2aiiigAoorz/9pf443PwB%2BGsXizRfCK%2BINa1XxDpeg%2BG9Dk1H7HHe6jqF7FaQLLP5chghVpfMlkEcjLFG5VJGCowB6BRXz9eftyX2gfsmePP2hfFnwjFt4g%2BG%2Br3%2BkeK/Clnrpntba9tbhYmlF8bdD9h8qSK7a5aBWjt2Z2hDI0ded2v/AAVq8N3Hwds/Hkmh/DmLUNU%2BId54X0bWpfi9Gngq/jtbFLy41SLxA1iN9mm/7IWW0Z/tqtAFKqZQAfYtfnx%2B1b4mn8Mf8EZfjVJZ5NxqHxZ8c6bbxr1ka5%2BIupQFR/wF2/KvvHwDr2peKvAujeJ9Zt9Liu9R0q3urqLRNWN/ZJJJGrsLe6McRuIsk7JfLTeuG2LnA/Pf9pqWPVv2KPB3wwlcbPGv7b2vaNKp6GNvHuvTMT7DyQSa8vO5OOT17buLX/gVo/8Atx43EUpLIsSo7uDivWVoL8Zo9M8N%2BGofi1/wVP8ACvw4tcT%2BHv2ZfhTFvC8pHruqRLDGpHT/AI8ow6k8hl49a%2B0q%2BR/%2BCPtrcfEL4M%2BNP2yNbjP9p/Gr4i6priGT78GnQXD2dpbH2jEMuPZ6%2BuKzySKlgvrH/P1uf/br0gvlCMfvP1rxJUcBn1PIqfwZdRp4W3T2lOPNXfzxFSqr9eReQUUUV7B%2BfBRRRQAUUUUAFFFFABRRRQAUUUUAFFFFABRRRQAUUUUAFFFFABRRRQAUUUUAFFFFABRRRQAUUUUAFFFFABRRRQAV4z%2By/wD8lv8A2jv%2ByzWP/qFeF69mrxn9l/8A5Lf%2B0d/2Wax/9QrwvQB7NRRRQAUUUUAFFFFABRRRQAUUUUAFFFFABRRRQAUUUUAFFFFABRRRQAUVznxd8R/EDwj8N9W8S/CzwTpviPX7O3Emn6Nq%2BvNpltcncu7zLpLe4aJVTc2RDITtwF5rmfhD8a/Gvx3/AGS/B37RPw5%2BHulrrfjXwJpXiHTvDGt%2BI5Le1hkvbWG4%2BzSXsVpK4VBKV8xbclioOwZ4APSa/Pb/AILn%2BE9R8Q/2J4h0Fcar4S%2BEHivxFpcuM%2BVJZ%2BJPBUjv%2BEXm19Wfsd/tD/EX9o/wr4u174i/CvRfDEnhn4gan4Ys38PeLZtZs9V%2BwMkFzcxzTWNm6hLwXdqUMX3rRjuIYAcL%2B1/8OU%2BMH7R2jfCd4g//AAkv7NnxN0tVP96e98KRA/XLA5rjzHDvFZfWoreUZJetnb8bHn5thXjcrr4dbzhJL1cXb8Uji/APjLTbP/grrpvjg/u9K%2BMn7PFpd%2BHLgNlbi5tboTPD7sLZw/HbFfZdfl%2B3xBuI/wDgmt%2Byf/wUAs95uvgn4gsNP8QzAHzE0Uytot%2Bh7gsIoBz2Oa/T6GaK4iWeCVXR1DI6NkMDyCD3FeZkWIVVVI/zctRelWMZfhNSR%2BjcQ4mOfcIcP8QU9quFVCflUwr5f/JqNalP5PoOooor3z4kKKKKACiiigAooooAKKKKACiiigAooooAKKKKACiiigAooooAKKKKACiiigAooooAKKKKACiiigAooooAKKKKACvGfHH/ACkL%2BF//AGRnx5/6dvCFezV4z44/5SF/C/8A7Iz48/8ATt4QoA9mooooAK8%2B/aX%2BB118fvhrF4T0Xxevh/WtK8Q6Xr3hvXJNO%2B2R2eo6fexXcDS2/mRmeFmi8qWMSRs0UjhXjYq6%2Bg0UAfOEv7C3jjVf2f8Axb8HfEXx2sJtV8Z%2BIv8AhKNZ8R2fg54lfXhqkV8jfZnvXVtNCW1raGyZi7wROHuWMhYZMX/BPPx5DrifGxfjd4Xk%2BLCfFC68ax%2BIZ/hxI2hRTXGgQ6DLax6WNSEyI1nbxSGT7b5puFLljGxhr6looA8z%2BDf7LXw5%2BGP7Leg/soeKtOsvGPh3StAj0zULfxBpMEttqSj5n32rK0SxlySsOCqKFUcKK/PD46jw18Pvhr8FPhZ4N0Kx0jSNA%2BOfxo8Q6ZpOmWqW9tZwaHrOvzxpFEgCxpGrAKqgBQABiv1br8cP2qPE3meINYsfM/5FLwf8edTA/wCeZ1PxprWk7vbO/bXgcTVfZZPPzcfz5v8A20rDYL%2B1c6y3L7X9vi8HTt3U8VQv/wCSxkfoX/wSk8M/8In/AME5/hDpfl7fN8IQ3uMf8/LvcZ/Hzc/jX0JXn37JXhn/AIQv9lX4Z%2BDzHtOlfD/RrQr6GOxhQ/yr0GvTy%2Bl7HL6NPtCK%2B6MT6HjHG/2nxfmWLvf2mIry/wDAq1Vr8LBRRRXYfOBRRRQAUUUUAFFFFABRRRQAUUUUAFFFFABRRRQAUUUUAFFFFABRRRQAUUUUAFFFFABRRRQAUUUUAFFFFABRRRQAV4z%2By/8A8lv/AGjv%2ByzWP/qFeF69mrxn9l//AJLf%2B0d/2Wax/wDUK8L0AezUUUUAFFFFABRRRQAUUUUAFFFFABRRRQAUUUUAFFFFABRRRQAUUUUAYHxR0Tx54l%2BH2q6B8MvFOkaJrt5amKw1XXtCl1O0tySAzSW0VzavKNm4ACaPBIOSAVPn37JvwG%2BN37Of7OvhL4AeKvjN4W8RjwZ4ItfD2k6tpvgK504ubWFLe2uJY5NTuA2Io18xFZd75ZWjB2D2CigDhP2YvgZp37NP7P8A4T%2BBen69Lq7eHNHjt7/XLiARS6tenMl1fSICQslxcPLO4BIDStya8zv/AIR/CjwN/wAFNvBfj3wT8MfD2j674n%2BD3jiXxLrWlaLBb3erPHq3hLy2uZo0Dzld74LliNxx1NfQ9eM%2BOP8AlIX8L/8AsjPjz/07eEKAPnP9jD4M6f8AFP8AZX/ad/YH1gRxro3xP8UaLpCSDi3tbtVuLGfHbErmQdsqK9x/4JcfGbUPjf8AsMeA9d8RF11zRNNPh7xFDP8A62K909zav5n%2B2wiSQ/8AXSuF%2BAlzB8KP%2BCu/xy%2BGl5MtvH8SfBPh/wAW6PbyHaJWtEexuDHn7xLHc2Oflz0FQ/sdX1n%2Bzn/wUE%2BOv7I%2BrTrZWPjPU4PiL4Cgl%2BQXYu49mprFng7J41AVf4UY4ABx8ll7WErUH0TqUH8pynT/AMl6o%2Bo8P0828MM0yVa1MDUWJprry05yw9dJf9ea2HqPyp3eibPsGiiivrT5cKKKKACiiigAooooAKKKKACiiigAooooAKKKKACiiigAooooAKKKKACiiigAooooAKKKKACiiigAooooAKKKKACvGfHH/KQv4X/9kZ8ef%2BnbwhXs1eM%2BOP8AlIX8L/8AsjPjz/07eEKAPZqKKKACiiuO%2BPHxs8Nfs/fDqX4ieJtI1PVN2pWOmaZouiQxyXuqahe3UVpaWkCyyRx%2BZJPNGu6R0jQEu7oiswAOxorxz/htz4XWv7NmvftK694X8R6XbeGNTuNJ1/wre2tv/a1lqsN4LM2DLHO1uZGnaNUkE5gZZUl83y231j6t/wAFDfhP4W/Z/wDHnx48d/D7xhoU3w5159C8Q%2BCby1sp9YfVfs9tcRWVv9lupbW4klivLZlZLgxqJD5rxeVL5YB73X4bfHjUrnxRq37UM2nNuu9JOr%2BDrU9dr6j8V9SvSn4or1%2B2fgPxjpnxD8DaL4/0WCeKz13SbbULSK6VVlSKaJZFDhSQGAYZAJGc4J61%2BLXhDw8%2BtfEr43wOpceOP%2BCgum%2BFkB5%2BSDX9buHA9Bl1J/CvluLlKeXRprrJ/wDpEkvxkj6XgCn7XxS4durxhjIVX6YeliMR/wC4j9s9J0220bS7bR7JdsNpbpDEPRVUKP0FWKKK%2BpSSVkfNylKcnKTu2FFFFAgooooAKKKKACiiigAooooAKKKKACiiigAooooAKKKKACiiigAooooAKKKKACiiigAooooAKKKKACiiigAooooAK8Z/Zf8A%2BS3/ALR3/ZZrH/1CvC9ezV4z%2By//AMlv/aO/7LNY/wDqFeF6APZqKKKACiiigAooooAKKKKACiiigAooooAKKKKACiiigAooooAKKKKACiiigArxnxx/ykL%2BF/8A2Rnx5/6dvCFezV4z44/5SF/C/wD7Iz48/wDTt4QoA89/4Kh/CjxnZeD/AA3%2B258ENNM3j74Iai%2BtW9tFkNq2isu3UrBiOSrQbnHUjY4UZemftWfDKL9uT9nDwT%2B2D%2ByJriQ/EHwpBF4q%2BFusDAa43IGn0ycZxsmQGF42IAkUBiF3g/VMsUVxE0E8SujqVdHXIYHqCO4r4n/Ze8VWP/BOf9p7XP2FPidNLpnw78ca7LrPwI1y7BFlE9w2%2B60IyH5Y3SZsxITlt5JO6VAfnsww9GliX7XSlXtGT25ai%2BCd%2BjdlG/8ANGHfXnyfPsbwNxdQznCNKM2lJSV4OVnC1RbOnXpylQqJ6SvFPVxa%2Bif2Ov2pPCP7YPwF0n4y%2BF7V7G5m3WniHQ5yRPo%2BpxYW4tJQQCGRuRkAsjI2Bur1Gvjv9oD4IfHT9jH4169%2B29%2Bxr4dk8S6F4klS6%2BL/AMI4Rh9TKAhtU07A%2BW7Cks8eD5p3HDMQB9Ffs5/tI/CD9qz4V2Hxh%2BCniqPVNIvRtkUjZPZTgDfbzx5zFKmRlT6gglSGPbgMZUcvquK0rRXoppac8fJ6cy3i7pq3K3%2BicV8N4OFH%2B3sj9/Lq0rJX5pYapJczw9bqpRfMqVRrlr01GUZc6qQj3VFFFeofBhRRRQAUUUUAFFFFABRRRQAUUUUAFFFFABRRRQAUUUUAFFFFABRRRQAUUUUAFFFFABRRRQAUUUUAFFFFABXjPjj/AJSF/C//ALIz48/9O3hCvZq8Z8cf8pC/hf8A9kZ8ef8Ap28IUAezUUUUAFeX/tb/AAb8Z/Gf4YWFj8NbzTIvE3hrxhoviXQI9bnkisrq40%2B/huTazyRRyPEk0aSQ%2BaschiMgkCSbNjeoUUAfKeo/sgftGeJ/2X/iV8Ktel8FW3iL4m%2BJZ/E2txQa5dz6ZLJLqELSaDIWs0kayl021is5bwKJGNxO62yYVTxEH/BKXx14h%2BDniXw/afES3%2BD97L4g1/VfAXw9%2BEtxY3Xhfw7/AGjodtpbW4/tLR2%2BV3ivbhpLa1tmjOr3ioCXZ3%2B46KAPOfhR8C77w1%2By74a/Z7%2BJXjrWtYudM8J2ek6trunazJpt5O8USIzxXOnLaPDgrhXiETbQM8k5/MD9mD4a2fhv4u%2BDPhpZSXs8Wqf8FCPiTq1pJqeoz3lzJb6PdTRI0s9w7yzuCrlpZHZ2ZizMxJNfsLX5r/Afw/pl1/wUA%2BCuhaZCR/ZHxI%2BPPiS9UtndLdeKtVtA5/74AHpivDz6l7WhS/6%2BQX/gUor8kz7jw4oL/Wz64/8AmHw2Oq/NYKvBfjUS%2BZ%2BlFFFFe4fDhRRRQAUUUUAFFFFABRRRQAUUUUAFFFFABRRRQAUUUUAFFFFABRRRQAUUUUAFFFFABRRRQAUUUUAFFFFABRRRQAUUUUAFeM/sv/8AJb/2jv8Ass1j/wCoV4Xr2avGf2X/APkt/wC0d/2Wax/9QrwvQB7NRRRQAUUUUAFFFFABRRRQAUUUUAFFFFABRRRQAUUUUAFFFFABRRRQBz3xX8e33ww%2BHmp%2BPNN%2BHmveK59NhWRPD3hkWpvrzLqpWL7XPBCCAxYmSVFCqxzxg8vpX7VXwqv/ANkzTP2ztSfUdN8H6n4FtPFccd5aBr2OzuLVLmKIwwtJvuCsiIIo2ctIQqliRnqPiuPiC3w51iL4V%2BHdG1bxBLZtHpun%2BINcl02zldiFPm3MNtdPEApYgrDJkgDAB3D5t0D9jj9oPx3/AMExtN/YJ%2BNel%2BC9F1PSfhbpvh2DXPDHjK/1C3lv9Njt0tZWD6fZypDI1skj7TvTcUXdgSUAfRPwh%2BInib4m%2BGJfEHiv4J%2BKvAVzHeNCmjeL5tNe6lQIjidTp15dxBDvKgNIHDRtlAME8H44/wCUhfwv/wCyM%2BPP/Tt4Qqn%2BxD%2Bzj4x/Z603xs/iTwh4P8H2XinxTHqejfDz4fahNdaL4diWwtbaRbeSW1tMtPLBJcSBLeJA8x4Zy8smVf8Awx8N%2BDv%2BCm3gvxnpOpeIZrzxD8HvHEl/Dqvi7Ub60iKat4SwLa1uZ5ILIHccrbpGGwNwO1cAH0PXB/tJfs2/CX9q/wCEmo/Bn4y%2BHVv9Kv1DRSxkJcWNwoPl3NvJgmOVCchh6lSCrMp7yis6tKnXpunUScWrNPZoyrUaWIoypVYqUZKzT1TT6M%2BKvhP%2B138T/wBgfxFa/swf8FGNSvbnQRdC0%2BH3x3e1ZtO1a2x%2B6t9TkBP2W7UfKXfhgpZmwvmydT8Yf2CdXHjy6/a1/wCCenxih%2BH3jnWkW81SyQ/afDPi8Ebgbu3TKqzg5%2B0RAn5mYAuxevpjxr4I8HfEjwtfeB/iB4XsNa0bUoDDqGl6paJPBcRnqro4IYd/qM18mSfsJftTfsfXtzrn/BNz452o8MNO1w/wY%2BJJlu9JUk5ZbG7BM9pnnCZ2lmyz44r5/E4KvQpqnUi61KOsWnarT7Wd05WWiaanbRqa3rh3iPirgDEyqZfJ1qElyyg1Go5U739nVpz9zEU%2B17VY2TjLmSma3wz/AOCo3hzwh4mt/gv%2B398Pbv4LeOmfyorrWMv4e1gjA86z1EZjCHqRIwCZ2l2YGvqvTdS07WdPh1bSL%2BC6tbmJZLe5tpQ8cqEZDKykhgRyCODXxnr/APwUf%2BBWp6Q3wO/4Kf8A7LWs/DG4vnEFzB4z0D%2B1/Dd/J0BgvokeN%2B53FQE/v5Gah8EfsFeGdO0pvid/wSm/bt1TwXplzKZo/D1lq0XiXwrK5%2BZlFvK7eSzEkMwdmXsoxijC5jiU3GnJYhLdaQrL/FCXKpetoNn3WFzLwt42k3ha7yzFfapyU6uGv5K31vDq/wBmcMRTj0nZI%2B2KK%2BQ0/ap/4KV/s%2BL9k/aW/Ybt/iHplvxL4u%2BCWr%2BfJIo7/wBl3OJ2Yjk4ZVzkDtXSfDr/AIK8/sGeOdV/4RfxH8X38C66hC3Wg/EXS5tGntmP8MjzqIQfpIa74Zzl7koVJezl2mnB/wDk1k/lJm2I8NOMYUZV8FQWMorX2mFnHExS7tUnKpD/ALiUYPo9dD6YorN8LeMfCPjnSI/EHgnxVpusWEv%2BqvdKvo7iF/o8ZKn860q9RSjJXTuj4WpTqUajhUi4yWjTTTT7NNJp%2BTSCiiimQFFFFABRRRQAUUUUAFFFFABRRRQAUUUUAFFFFABRRRQAUUUUAFFFFABRRRQAUUUUAFeM%2BOP%2BUhfwv/7Iz48/9O3hCvZq8Z8cf8pC/hf/ANkZ8ef%2BnbwhQB7NRRRQAUUVzvxX%2BK/gH4I%2BAr34mfE3XG0/R7B4I5porOa5lklmmSCCCKCBHlnmlmljijijRpJJJERFZmAIB0VFeeWX7VnwFv8A4FXf7SSeOXi8Iae1xHf3t5pF3Bc21xBcNay2sllJEt0l0twpg%2BzNEJvNxGELEKcAft4fs4S%2BDJPHNlqHjK8t7fWp9J1DTdP%2BFniG41TTryGCO4kju9OisGvLPEM0Mu6eFFKTxMCVkQkA9ir83/2Ir%2B01X/gqHrd5fzBbPwl4S%2BJDs5BOy5ufihrSgADuY8YA5J4r9DvBnjHwr8RfB%2Bk/EHwLr9rq2ia7psGoaNqtjMJILy1mjWSKaNhwyOjKwI6gg1%2Bcf/BLcHxP%2B3d%2B1DrrDI8MfEi70ZWI%2B79p8b6zdkfpmvJzT3qmGh3qx/8AJYzl%2Bh%2BgcCfucHneK/kwNZfOrVwtFf8ApTXzP0Z/4TDSf%2BfTVP8AwR3f/wAapf8AhMNJ/wCfTVf/AAR3f/xqvnbx9/wWR/4JvfC/x3rXw08c/tG/Ydb8O6tc6ZrFl/wiGsS/Z7q3laKWPfHaMj7XRhuUlTjIJHNZP/D8v/glp/0dD/5ZOt//ACFVSzzJYScZYmmmv78f8zOj4W%2BJmIoxq0skxcoySaaw9VpppNNNQs0000%2BqafU%2Bn/8AhMNJ/wCfTVf/AAR3f/xqj/hMNJ/59NV/8Ed3/wDGq%2BdvAP8AwWR/4JvfFDx3ovw08DftG/btb8RatbaZo9l/wiGsRfaLq4lWKKPfJaKibndRuYhRnJIHNd9%2B398YPiZ%2Bz7%2BxN8U/jj8G7TTZvE/hLwPqGq6OurzMlussELSb32xybtqhmCbcOyhCyBi69eFxuDxsXLD1IzS35Wnb1sfP55wzxJwxWhSzjBVcNKabiqtOdNySdm0ppNpPRtddD0v/AITDSf8An01X/wAEd3/8ao/4TDSf%2BfTVf/BHd/8AxqvnvU/23Pjb4V%2BIfjnwX8QvgV4E0LT/AIZfDy08TeOfE938VLo2Nu93FqjW9tbY0cSzqH0%2BMSyukRRLgtHHM6CKTmfht/wUq1f4q6p4Z0PVvhPq/hfW4vjRL4O8Q6Qst5bQyIfB%2Boa/DPt1jR7S9eF0hiTb9ntJBKgZZZIVK3HSeGfVX/CYaT/z6ar/AOCO7/8AjVH/AAmGk/8APpqv/gju/wD41Xzz%2ByV%2B3z8Sf2h9P0S48c/swf8ACP3fiz4TaL8QfCel%2BHvGsOqz3WnXzBHgnNxBZRW9xCXiYqHkR0fIcMpjrqf2q/FnxV1L4tfC/wDZ4%2BFvxX1DwI3ja61i61bxXo2m2N1exW9hZCRbaBb%2B3uLdWkmmhZmeJz5UEqrtZhIgB67/AMJhpP8Az6ar/wCCO7/%2BNUf8JhpP/Ppqv/gju/8A41XzlB%2B0J%2B0j8T/%2BCZHhD4//AA%2BtLn/hOdd0jw7N4hu/Cuhre3FvaS39pFrGoadZSLIJ5UszeXNvAVl3Msa7JziN%2BL8BfHH9pX40fs1fEHUPAvi7426hrvwz%2BJV/oelXPh3wp4X0zxJ4osxY2l5by3lnr1nDaQbBehGSOK2mbyB%2B7Vy0VAH2D/wmGk/8%2Bmq/%2BCO7/wDjVH/CYaT/AM%2Bmq/8Agju//jVfC0H7aH7TPjLwFD%2B0FpPxx0%2BOy8DeBPhpqureHvDeiWzaV4zuNdkR9SlL3lubyGFoZBHZrE8DxyqzTCYHyl0LT9ur4z/s/ftBtcftV%2BIfGtroFxe%2BPJvFej6p4BitdA8N6NpCXV/pl/pmoR2qSagZtOtVaVftF1%2B8uDuW0cJCwB9sf8JhpP8Az6ap/wCCO7/%2BNVfsL%2B01O0S%2BsZxJFIMqwBHfBGDyCDkEHkEV8l/8EuP21db/AGt/FHxjtfFf7QPgzxfcaN4t0660PQ/B%2Bs6bexeHNLvdHsrlLHzrIt9q8md7iF7l2cSTwzhCqKsafUvg/wD5BM3/AGFL7/0rloA1aKKKACiiigAooooAKKKKACiiigAooooAKKKKACiiigAooooAKKKKACiiigArxn9l/wD5Lf8AtHf9lmsf/UK8L17NXjP7L/8AyW/9o7/ss1j/AOoV4XoA9mooooAKKKKACiiigAooooAKKKKACiiigAooooAKKKKACiiigAooooAKKKKACvGfHH/KQv4X/wDZGfHn/p28IV7NXjPjj/lIX8L/APsjPjz/ANO3hCgD2aiiigAooooAq63oeieJdKn0HxHo9rqFjdRlLmyvbdZYplPVWRgQw9iK%2BafiB/wSC/Yr8T%2BIJfG/w18L658LvEchJXX/AIWeIZtGmjPX5YoyYF554jFfUFFcuJwODxiSr01K211qvR6NfJo4sZl2AzBJYmlGdtrrVej0a%2BUkfIq/srf8FQvg4MfAr/goRpXjSwi/49dC%2BL/g5ZGAHaTULQ%2BfJnudorA%2BIfxD/b/vNJ/4R39rD/glH4B%2BLWlRgrPfeEPFVncRY7mOy1KNpWz6Ag19s0VwyyeCi40q04rs5Kcf/Aain%2BZzYfLMRl9aNbL8ZWoTjqnGo3b057tfKaPyi8UaZ/wTA0XVpPEXjj9iH9o79nfW8/v/ABBoOh6lp8MRH8UTW00sRUHoViH0rZ8D/Hf4YQhB%2BzP/AMHAur2MS/6rT/jJ4eh1AsP7kk%2BoR27J7sBmv1ErlvG3wN%2BCfxL3/wDCx/g94W8QeZ/rP7b8P213u%2Bvmo2a818O1qbvRnBPyjKm/vpVIr/yQ%2B5p%2BI/i1SpqnXzSGMgtFHF4eniNO16kakkvSSPkHwd%2B0Z/wUtUIPAfxu/ZT%2BMVlx5baL4pnstQn/AO/cjQDPtmuxX9uH9v7wWMfFr/glN4keJPvX3gfx/p%2BriUf3lhUK4%2BhOa7Lxh/wSh/4JzeOC51r9kPwfBv8Avf2PZvp2Pp9laPH4Vxx/4Iq/sTaOc/DP/hP/AAUR/qz4V%2BIuoxeX9PNlkpfUeIqP8Opf/uJf8KlJv/yYr/X7HVv%2BRjw5l1bzpSxOFl/5TqOF/wDtz5B/w99%2BFfh/5fi7%2Byn8fPA23/WzeJPhhOIV9SHheTcvvitXw1/wWa/4Jq%2BJ5vscf7Tllp9wDiS31rQ9Qsmjb0Yz26r%2BuKyf%2BHWPirQPm%2BHX/BSr9pDTMf6uDU/HiajBH7BJIRx7ZrL8S/8ABOj9tjVYPs1r/wAFQL3UoVGFt/Gfwc0bWVYf3SZiPzxR7biqlvBS%2BVN/%2Bk1IfkH%2BtHBFf/eeG8VSf/TjMKNRf%2BA4jDpv05l6nuXhf9vD9ibxptXwz%2B1v8N7qR/uwL40sll/79tKG/SvRPD3jnwT4ujEvhPxhpWqKRkNp2oRzgj/gDGvgHxR/wSU/an1Pc154k/Zq8TyHrPrfwDtNPlk%2BslkAw/A1554i/wCCMP7S1w5muf2X/wBlLVApysmm614v0qfPqBBcLGPyo/tbiCn8eDv6cy/WQf2l4XVvip5rQ9cPg66X/grFUm/uufqrRX5Lf8OxP26vCP8AyKf7Psenbfuf8IL%2B0Xqllj/d%2B2CTH40f8M1f8FePBv8AyL/gf9ovYvRo/wBq/Rr%2BJPZYZ7QMR7Zo/wBYsdD%2BJganyu/zgFvDOr8GcYin/wBfcsxf4ujVrJfifrTRX5Lf2l/wW/8ACX/HhP8AHay29PtGk%2BG/EGPzKbqkH7V//BbLwimdR0L4wawy9RP%2BzZpzhvxtLwfpR/rXSj/Ew1Vf9u3/AE/QTwHBE/4XEWG/7iUMxpP582Cml/4EfrLRX5LH/gqR/wAFh/DP/H9%2BzZfy7e/ir4Da3aZ%2Bv2W4bH4Vbt/%2BC2//AAUG0JQ3jb9m7wWuPvhfB/im1/8AQ4XxTXGOUr441I%2BtOQpZNkNr08/y6XriZwf3VcHD8Wfq9RX5RT/8HFvxd8MKW8V/sr6DcbfvC21nVLTP/f7TzirGh/8ABzlpl8duq/saNBg4LQ/EiE598S2cdNcacOXs6zT84y/yYlw9Rmr0s0y%2BXpmOCT%2B6dWm/wP1Vor81dM/4OTPgxKA2tfs2a7bjv9l8W6bNj/vp0rYtv%2BDlD9jiHA1z4OfEeH1%2BxQaXcAflfLW8eLOHJf8AMTFevMv/AG0ceF8xqu1Gthqn%2BDG4GX5YxH6JUV8D6b/wccf8E/r8gXOhfEWzz/z8%2BHLY4/793TV0emf8F%2Bf%2BCdmoANN4p8WWoPefwhcNj/v3urePEvD89sVD7/8ANIt8HcSdKMZf4a2Gl/6TjJH2rRXyLaf8F0/%2BCZEwBvvj7e2Wf%2BfrwVq3H/fFq1a9h/wWk/4Jjalj7P8AtV6cuf8An40DU4v/AEO2FbRz3JJbYmn/AOBx/wAylwTxhJXjgKsv8MOb/wBJlI%2Bo6K%2Bd7D/grP8A8E4tRx9n/a58KLn/AJ7yyxf%2Bhxitix/4KW/8E/dRx9n/AGxvh4uf%2Be/ie3i/9DYVtHNcrltXh/4HH/5IHwPxrFXeV4m3/Xis/wAqUj3CivJ7L9vT9hzUcCy/bJ%2BFchPRR8QNO3fl52a1rL9rb9lTUsf2d%2B018PZ89PJ8aWL5/KWto43BS2qxf/b0f/kjiq8M8TUf4mArx9aFZfnRR6FRXJ2fx6%2BBmo4/s/4z%2BE589PJ8R2rZ/J61bT4geA9Qx9g8baRPnp5OpRN/Jq1VajLaSfzX%2BZwVMuzGj/Eozj6wmvzgjXrxnxx/ykL%2BF/8A2Rnx5/6dvCFexW95Z3i77S6jlHrHIGH6V4744/5SF/C//sjPjz/07eEK03ORpp2Z7NRRRQIK8g/bX%2BG/j74h/CfSL74ZeGW13WPCfj/w74nh8OpdwwPq0Wn6nb3E9tHJO6RLMYUkMXmukZlWMO6KS6%2Bv0UAfGWvfAH9ojxr%2ByD8XfA938B72z134l%2BNrjxWPDV7rWmb7ewk1O2V9NjuYrp44NVawtGnSdSbeC6uY2W4YxFxz%2BheA/wBuD4GfArxj4O%2BAP7NnxAtV%2BJHxalubae%2B8b6Hq3izwh4efSbGK6vri81HVjHqWoyXVvcpa%2BbeXX2eKW2MjMlstpX3bRQBwHw5%2BF1joH7M/hz4OfDO18QfDGz0vwjYaVodnA2n3OpeHIILeOKKDMgvLSSWJEEZJ8%2BMkEhn4aviP/gi94Mv9A8Y/tW63qniO%2B1q5b9p/UdKuNb1OOBLm/e01663TSi3iihDsZyzCONEBY7UUYA/Ruviv/glN4aOi/Dj4/ay6fNrP7aPjq5ViOqp4lEAH0Bib8zXDiqftMVh32lJ/%2BSNfqfVZFjFhchzaF9alKjD5PFU5v/0hH2pRXzF4/wD%2BCmv/AAgXjvW/Av8Aw75/ae1r%2BxdXubD%2B2NA%2BE/2mwv8AyZWj8%2B2l%2B0jzYX270fA3KynAzWR/w9h/6xqftaf%2BGb/%2B6qxlnWWRk4upqv7s/wD5WfnkuIcmhJxlV1Wnw1Omn/Po%2BtKxfiP8PPBnxc%2BH2ufCr4jaDFqvh/xLpFzpeuaZOzKl1aXETRTREoQwDIzDKkEZyCDzXz54B/4Ka/8ACe%2BO9F8C/wDDvn9p7Rf7a1e2sP7Y1/4T/ZrCw86VY/PuZftJ8qFN293wdqqxwcV7N%2B0n4w%2BJ3w8%2BAXi/4g/Bnw5aaz4n0HQLnUtH0W9hd01KSBDKbUBHQh5VRo0bdhXdWIYAqevDYzDYyLlRldLfSS/9KjH9TtwePweYRcsPLmS0ekl5/ajH8LmNB%2Bxr%2BzwvhXxT4O1PwhqWr2fjXw3b6D4ql8ReK9T1O61Kwg%2B0%2BTHJc3dzJPvT7XPiUOJRuX5/kTbneB/2Cv2Wvh7qS654f8BalNqQ8XDxRLq2teMdW1K8uNXGkTaMLua4vLqWWdhp88tviRmXaVONyIy%2BG%2BI/%2BCj/AMTfiR4WufGP7LjaHqth4j8dzaR8KJYvCS6o3iDTrDSFutVvZGudb0q2hjiu/PgDtcLtFm4CStIPL4nwb%2B3V8Rvi54j0T48WX2m107x58Mv2d9Vj8KNr979h0qfxF4u122v5IPs08W5zF5KMxyk62sKzJLEvlHpOw%2Bw/DH7J3wI8E2OiWHg7wne6UvhzwNaeDtEm07xHqEM1potq8bwWqypOHO0xR5kLGRgCGdgzA6Pxv/Z6%2BFP7ROiafofxS0fUZhpGom%2B0i/0TxFfaRfWNwYZYGeG8sJobiLdDNNE4SQB0kZWBUkV8m/BP9qn9qD43ftSfCDxhqfirwj/Ynjv4W%2BP9b8OfD3Srq909rWSzv9GgtoNWlM1wl1LH5pRrhLaI20j3CLFJnJ9u/bf1bxJPpnwo%2BG8virVfDukeO/ivYaH4z1Lw3rtxp91DZnT7%2B6SCG9t2int/PvbWztfMjaORluCqlS4oA9Ck/Z3%2BFieAx8MNGsdY0XQIvDlhoVlpnhnxXqOlR6fY2ZJt0tPsdxEbN1B2mWApK6IiM7LGirzt3%2BxL%2Bz9P8PNO%2BFtjYeLdL0jTbq8uQdA%2BJevabd3s925kuZb27tb2O4v3lcl3a5klLMdxJPNeX/CLUf2hfin/AME2/G%2Bh/Cf4k3c/jSz1Lx34c8A%2BLNY1UtcXFvp%2Bvapp%2BmXEl5KHLSm1toB9rcOXbE7b9xzxX7Ptn8Vfizp3xv8AgWfBfj6wsPCXinRj4J8PeOP2hNWtNVhv5dKinu9Pu/EGk3V9dJGNyXQhWa62rdJuVVZYogD6E1P9hf8AZW1PxL4X8UN8KUtJfB2m6Tp%2BhWGl6xe2eni10uYz6ZDPYwTJbXiWcpMtuLiOQQOS8exjmt7wp%2BzT8IvB3xav/jlpum6zd%2BJ7%2BK5hF/rvi3UtTjsIriVJbiKygvLiWHT45HiiLx2qRK3lRgghFA/Pef41fFzxf%2BzRqWv%2BMP2kvGWmav8AC79mvxF4p8NX%2Bl%2BLLu2F74n07WNRs5muHhmH9uwWb2FlbL9o82K7S8EskZe4Xb6lqv7WPxQ8T/8ABUP4ZeG/Ftv8VvCmix6xq/hqz8IDwH4gg0fVyukNNNqk90tqLK8U3eyOE%2BZItvFaGctH9pkCAH2p4W%2BGPgfwV4r8TeN/DOh/ZtU8Y6lBf%2BJLr7TK/wBsuIbSGzjfa7FY8QW8KYQKDs3EFiSbXg//AJBM3/YVvv8A0rlrUrL8H/8AIJm/7Ct9/wClctAGpRRRQAUUUUAFFFFABRRRQAUUUUAFFFFABRRRQAUUUUAFFFFABRRRQAUUUUAFeM/sv/8AJb/2jv8Ass1j/wCoV4Xr2avGf2X/APkt/wC0d/2Wax/9QrwvQB7NRRRQAUUUUAFFFFABRRRQAUUUUAFFFFABRRRQAUUUUAFFFFABRRRQAUUUUAFeM%2BOP%2BUhfwv8A%2ByM%2BPP8A07eEK9mr5w/aP1f416P%2B3h8J5/gd8P8Awt4i1JvhH47W7tPFfjC50WCOD%2B1PCRLpLb6fes77to2GNRgk78gKQD6Porxn/hOP%2BChf/Rr/AMGf/D8at/8AMvR/wnH/AAUL/wCjX/gz/wCH41b/AOZegD2aivGf%2BE4/4KF/9Gv/AAZ/8Pxq3/zL0f8ACcf8FC/%2BjX/gz/4fjVv/AJl6APZqK%2BcdJ/aO/bt1j4z6/wDA63/ZQ%2BEi6p4d8L6Rrt5cv8ddU8iSDUbnUreFEI8Mbi6tpc5YFQAHjwWJYL1H/Ccf8FC/%2BjX/AIM/%2BH41b/5l6APZqK8Z/wCE4/4KF/8ARr/wZ/8AD8at/wDMvR/wnH/BQv8A6Nf%2BDP8A4fjVv/mXoA9morxn/hOP%2BChf/Rr/AMGf/D8at/8AMvXL%2BAf2jv27fiJ4r8b%2BENH/AGUPhJDceA/FEWharJc/HXVAk88mlafqYeLb4YJKeTqMKksFO9HGMAMwB9HUV4z/AMJx/wAFC/8Ao1/4M/8Ah%2BNW/wDmXo/4Tj/goX/0a/8ABn/w/Grf/MvQB7NRXjP/AAnH/BQv/o1/4M/%2BH41b/wCZej/hOP8AgoX/ANGv/Bn/AMPxq3/zL0AezUV84/CL9o79u34y%2BFLvxf4c/ZQ%2BEltb2fijW9CkjvfjrqiuZ9L1W60ydxt8MMNjTWkjIc5KMpIU5UdR/wAJx/wUL/6Nf%2BDP/h%2BNW/8AmXoA9morxn/hOP8AgoX/ANGv/Bn/AMPxq3/zL0f8Jx/wUL/6Nf8Agz/4fjVv/mXoA9morxn/AITj/goX/wBGv/Bn/wAPxq3/AMy9cv8ABH9o79u348fBjwh8cfCv7KHwktdL8Z%2BF9P13TbbUPjrqizwwXdtHcRpIE8MMocLIAwVmGQcEjmgD6Oorxn/hOP8AgoX/ANGv/Bn/AMPxq3/zL0f8Jx/wUL/6Nf8Agz/4fjVv/mXoA9mqrf6HouqAjU9HtbnPXz7dX/mK8j/4Tj/goX/0a/8ABn/w/Grf/MvXL/G79o79u34D/Bjxf8cfFX7KHwkutL8GeF9Q13UrbT/jrqjTzQWltJcSJGH8MKpcrGQoZlGSMkDmk0nuJpNWZ7Vf/Bv4Q6pn%2B0/hX4buc9fP0O3fP5pWPffssfsw6nn%2B0v2cfAdxnr5/hCyfP5xVyv8AwnH/AAUL/wCjX/gz/wCH41b/AOZej/hOP%2BChf/Rr/wAGf/D8at/8y9ZSw%2BHl8UE/kv8AIxlhcLP4qcX6xi/ziaV7%2Bwv%2BxLqWf7Q/Y8%2BFk5PeX4faax/WGsm9/wCCcP7Ad/nz/wBjT4arn/nj4OtI/wD0CMVJ/wAJx/wUL/6Nf%2BDP/h%2BNW/8AmXo/4Tj/AIKF/wDRr/wZ/wDD8at/8y9ZPL8BLejD/wAAj/8AImEsryyfxUKb/wC3If8AyBjXn/BK/wD4J2X2fP8A2QPBS5/546X5f/oBFZd3/wAEf/8Agmte5879kvw8uf8AnjcXUf8A6DMKl%2BLv7R37dvwa8KWni/xH%2Byh8JLm3vPFGiaFHHZfHXVGcT6pqtrpkDnd4YUbFmu42c5yEViAxwp6j/hOP%2BChf/Rr/AMGf/D8at/8AMvWTynKpb4eH/gEf/kTGWR5JLfC0/wDwXD/5E8/u/wDgil/wTBvc%2Bd%2ByrYrn/nl4j1SP/wBBuhWbc/8ABC3/AIJdT58n9m2WAnvD411n/wBmuzXqX/Ccf8FC/wDo1/4M/wDh%2BNW/%2BZej/hOP%2BChf/Rr/AMGf/D8at/8AMvWTyPJZb4an/wCAR/yMv9XOH73%2BqUv/AACP6JHjd3/wQQ/4Jl3JzH8G9Xg/65eMNQP/AKFMazrr/g30/wCCbtx/qvBXieD/AK5eK5z/AOhZr3X/AITj/goX/wBGv/Bn/wAPxq3/AMy9cv4%2B/aO/bt%2BHfivwR4Q1j9lD4STXHjzxRLoWlSW3x11QpBPHpWoamXl3eGAQnk6dMoKhjvdBjBLLm%2BHche%2BFh/4Cjpp5Tl1L%2BHTUfRyj/wCkzR5Fc/8ABu5/wTvn/wBVb%2BOIf%2BuficHH/fURqhc/8G4n7AE/%2Bq8R/EeH/rn4jtj/AOhWhr6U/wCE4/4KF/8ARr/wZ/8AD8at/wDMvR/wnH/BQv8A6Nf%2BDP8A4fjVv/mXrN8McPPfCw%2B7/gnXCnKl8FSpH0rYhfliEfLs3/Btf%2Bwm7b7f4n/FeBh0MWv6dx%2Bdga3v2R/%2BCcHwh/4J9f8ABQrwynwn8f8AjDW08WfBnxd9tXxXqFvP9n%2By6t4Y2eV5MEW3d9obdnOdq4xg5%2BhP%2BE4/4KF/9Gv/AAZ/8Pxq3/zL1Q8D%2BB/2rPGP7Vnhz43fG74cfD3wzo3hn4e%2BIdDhh8K/EO%2B1q6u7rUr7RLhGZLjSLFIo0TS5QWDuxaVAFxkjbC5BkuCrqth6EYzWzV%2Bunft5G7q4uS5Z4itJdpV8ROPzhPE1IPyvB2eqs7Ne60UUV65IUUUUAFFFFABXzn%2BxD4Z07wv%2Bzx4svLLzCLz9obx/qV8zDO0/8J5qhduB91Uj/Ja%2BjK%2BSv2SvFn7Z2n/D3xRZ/DH4B/DDV9CT40/EX%2Bz9R174u6jpt3Mv/CZ6yWMltFoFykRDbgAJnyADkE7Qmk2n2LjUnGEoJ6Stfzs7r7nqfUH/AAnPgn/ocNL/APBhH/8AFUv/AAnPgn/ocNK/8GEf/wAVXlv/AAnH/BQv/o1/4M/%2BH41b/wCZej/hOP8AgoX/ANGv/Bn/AMPxq3/zL0yD1L/hOfBP/Q4aV/4MI/8A4qj/AITnwT/0OGlf%2BDCP/wCKry3/AITj/goX/wBGv/Bn/wAPxq3/AMy9H/Ccf8FC/wDo1/4M/wDh%2BNW/%2BZegDUvvgZ%2BxRqnw40n4O6n8HfhbceEdAvftmheFZ/D2mvpum3O6RvOgtinlQybpZTvRQcyOc/Mc6Gn/AA4/ZR0m1tbLSvAfw9tobK00m0sobfS7FFt4NLnkuNMiQBQES0nlllt1GBBJI7xhWYk%2BZ/BH9o79u348fBjwh8cfCv7KHwktdL8Z%2BF9P13TbbUPjrqizwwXdtHcRpIE8MMocLIAwVmGQcEjmuo/4Tj/goX/0a/8ABn/w/Grf/MvQBq2PwP8A2KtL8U63450z4QfC631vxLBdQ%2BI9Yg8P6al1qsd1j7SlzKE3zrLtXzA5IfA3ZxXQeN9K%2BAHxM8EXPwy%2BJGm%2BDvEHhu8hSK78Pa5DaXdjPGjKyI8EoaNlVlUgFcAqCOgriv8AhOP%2BChf/AEa/8Gf/AA/Grf8AzL0f8Jx/wUL/AOjX/gz/AOH41b/5l6AOqHgn9mEeHrfwiPCPgMaTaeG5/D1rpf2Cy%2Bzw6ROI1m05I9u1bWQQxB4APLYRICp2jGHdfs%2BfsMX3wttfgde/BD4TzeCrK/N9Z%2BD5fDWmNpcF0d%2BZ0tDH5KSfvH%2BcKG%2BdueTXE/G79o79u34D/Bjxf8cfFX7KHwkutL8GeF9Q13UrbT/jrqjTzQWltJcSJGH8MKpcrGQoZlGSMkDmuo/4Tj/goX/0a/8ABn/w/Grf/MvQBu%2BIPhN%2ByB4ssfDGl%2BKvhp8NtTtvBMscvgy31DRtPmj0B0CBGsldCLUqI0wYtpGxcdBXS6lf/CLWda03xJq954bu9R0d5X0i/uZLeSaxaSMxyNC7ZaIuhKMVI3KSDkV57/wnH/BQv/o1/wCDP/h%2BNW/%2BZej/AITj/goX/wBGv/Bn/wAPxq3/AMy9AHqP/Cc%2BCf8AocNL/wDBhH/8VR4MO/QzOoOya%2Bu5YiRjcj3MjK30KkEexry7/hOP%2BChf/Rr/AMGf/D8at/8AMvXL/F39o79u34NeFLTxf4j/AGUPhJc2954o0TQo47L466ozifVNVtdMgc7vDCjYs13GznOQisQGOFIB9HUV4z/wnH/BQv8A6Nf%2BDP8A4fjVv/mXo/4Tj/goX/0a/wDBn/w/Grf/ADL0AezUV4z/AMJx/wAFC/8Ao1/4M/8Ah%2BNW/wDmXo/4Tj/goX/0a/8ABn/w/Grf/MvQB7NRXzj4%2B/aO/bt%2BHfivwR4Q1j9lD4STXHjzxRLoWlSW3x11QpBPHpWoamXl3eGAQnk6dMoKhjvdBjBLL1H/AAnH/BQv/o1/4M/%2BH41b/wCZegD2aivGf%2BE4/wCChf8A0a/8Gf8Aw/Grf/MvR/wnH/BQv/o1/wCDP/h%2BNW/%2BZegD2aivGf8AhOP%2BChf/AEa/8Gf/AA/Grf8AzL1y%2BrftHft26P8AGfQPgdcfsofCRtU8ReF9X12zuU%2BOuqeRHBp1zptvMjk%2BGNwdm1SAqApBCSZKkKGAPo6ivGf%2BE4/4KF/9Gv8AwZ/8Pxq3/wAy9H/Ccf8ABQv/AKNf%2BDP/AIfjVv8A5l6APZqK8Z/4Tj/goX/0a/8ABn/w/Grf/MvR/wAJx/wUL/6Nf%2BDP/h%2BNW/8AmXoA9mor5x0n9o79u3WPjPr/AMDrf9lD4SLqnh3wvpGu3ly/x11TyJINRudSt4UQjwxuLq2lzlgVAAePBYlgvUf8Jx/wUL/6Nf8Agz/4fjVv/mXoA9morxn/AITj/goX/wBGv/Bn/wAPxq3/AMy9H/Ccf8FC/wDo1/4M/wDh%2BNW/%2BZegD2aivGf%2BE4/4KF/9Gv8AwZ/8Pxq3/wAy9cv4B/aO/bt%2BInivxv4Q0f8AZQ%2BEkNx4D8URaFqslz8ddUCTzyaVp%2Bph4tvhgkp5OowqSwU70cYwAzAH0dRXjP8AwnH/AAUL/wCjX/gz/wCH41b/AOZej/hOP%2BChf/Rr/wAGf/D8at/8y9AHs1eM/sv/APJb/wBo7/ss1j/6hXhej/hOP%2BChf/Rr/wAGf/D8at/8y9W/2Vvhz8afB%2BsfFDx38dNA8L6Tqnj74hRa5Z6V4T8S3OrW9raxaDo%2BmKr3FxZWbNI0mnSuVEW0LIg3Mc4APW6KKKACiiigAooooAKKKKACiiigAooooAKKKKACiiigAooooAKKKKACiiigAr5X/ae/a0%2BLnww%2BMfizWvAPh3wfJ4Y%2BD/h/w/e%2BNTrWkXE2q6pb6vfypcwWFxHcRpZeRbWcdxmSKcXMhSMiHy/NP1RXjPxn/Yh%2BHHxu%2BKR%2BJmueOfFWlxaja6Ra%2BL/DWjXVqmneKYNLvZL2xivllt5Jgsc00ufs8sBljkMUxljCoAD2aiiigAooooA%2BY/Dn7SvxMh/b/wDFHwf%2BI2seHvCfhtfEFpongyLUfhFrKXXjGAaBBqOIPEbXa6c0sd3c6gBaCF5PLtJgFBZpF%2BnK8r8WfstQeP8A4yaR8U/Hvxv8a6vpXh7XY9a0DwBcHTItGsdQjt3gjnDQ2SXsuzzJJFSa6kjEj7tnyIF9UoAKKKKAPF/%2BCgvxd%2BOH7P37I/jT49fAK98KR6x4J0K71y6g8YaLc31td2lrbSzPboltdWzJK7IiiQuVQFiUfgV5/wCPP2tPi54L%2BPHi3U/Cnh3whF8PPCHxj8I/D7xlZzaRcHW9V1XXYNFSPUIbtLhYY44P7c0mMxSW8ryJDPiWPagr2H9rH9nGy/a0%2BBGvfs%2B618VfFPhHSfE9lLY65f8AhBdO%2B13NlLE8U1tuv7S6jRHV%2BWRFkBUbXXnPFwfsA%2BDp/iLZ/EXxV8cfH2usdZ0nXPE2jahLpUVj4n1zTEjSx1a9jtrCJluIhBaYW2aCBjY2xeJjHkgHvdFFFABXi/7ZPxd%2BOHwStfAPjH4WXvhT%2BxtQ%2BJnhzw94vsfEGi3NzdXNrqus2Omg2csN1CltJGtzLJvkSdSURdnJNe0V5V%2B1d%2By2/wC1V4b0LwvP8ffG/ga30LxJYa6jeC4dHZ7u9sbyC8s2lOpafeDbFcW8bhYwgblZN6naADzj9nn9pX4ma3%2B1V4t%2BCPxQ1fw94T06HxTrdv4J8JSfCLWdMudetoXSU39vrVxd/YNQdjJNLLFbQF%2BS7FcMT9OV5LpP7KIf4yaL8ZfiP%2B0B478azeF7u8u/CeheIRpMNho91c28lrJcRLYafbSyv9nmnhXz5JVRZ32gEgj1qgAooooA8P8A27vi58eP2fvg1q/x1%2BFHjHwLY6f4W0W5vL3RfFnhm9v7nxDe5RbPTLOS2vYPs81xKRbo3lXTNLPEFhY/K3n/AMEf2vvjPrnxL8Ff2t4M8JaR8NPG/wAT/FHw28K%2BGtO0uaPV9Ev9Ah1bfPPci4a3mgkbw/qaLDHbxGNWtj5kmWA9P/aV/ZBg/aS8eeCPiBN%2B0D478IXPgG7ub3RbHwxFo09nJeyoI1vJoNT068R54Y/MWGQBTGJ5SPmbIq%2BA/wBhr4e%2BA/jLb/F2H4i%2BLtSg07XdT17RPCGpXNl/ZOla3qMbx6hqkCRWqT%2BfOJ7ssrzPCjX1yY4o/M4APa6KKKACvl/9rn48ftL/AAW%2BImn%2BFNKh8AeNdH8cw61baL8OYvB99JrCWtpod1dyX9xOL14rq2F1Fb20kItYgft8KCYyMiSfUFeHTfsTXEf7R/iv9prRP2q/iXp2r%2BLdNh0650uGDw/PaafZwwNHDbWbXOky3NvEsrvdbFm2vO5dw4O2gBn7CH7Qfjf49/D28uviv4%2B0a%2B8XacLNtf8ADdl8LtX8I3mgPPbLKILmy1e6nuHBbf5dwAkciodobaTXuleb/A79m7Tvgz4n8SfEPWPil4p8ceKvFcVjb6x4n8XNYLcvaWYm%2By2qRafa2ttHFG1zcuNsIZmuJCzNkY9IoAKKKKAPjn/goJ%2B3H8VP2MPHP9p65ougeMfCL6NqOt2/hWX4c6nZS26abo19qSSf8JFNdPpk939r00bLFYEuhHMsoG2FpG9e/Zo%2BLvxz1b4qeN/2ev2jrnwpqHifwjpOh61HrXgrSLmwsbmx1QXkaRGC5ubl1liuNOu1L%2BbiRDE2yMkqK3x1/YS8EftOa1dWvx/%2BLfjXxR4LuZLiRfhleSabDosUk1jNZM2%2B3so76QCO4mYJLdOgd9235EC9P%2Bz5%2BzNpHwDvNe8RXfxQ8WeOPEfiQ2cereKvGtxZvfS21pEYrW1H2O2t4ViiDysMR72eeV3Z2cmgD0qiiigAr4j/AGp/2yv2s/g38avEHwo8HeG/DnjXU7DRbjXfDAT4H%2BII5NFA1HTLVDC325x4mkFjqlx539l%2BU8LQlZRGJhHX25Xh%2BvfsW6n4l8en4na1%2B1z8UZtb0%2BC8i8G3hTQAPCq3U0Mk/wBkjGk7J2aOBbfderdMsTOFKu7OQDqv2WPiw/xk%2BEcHiy9%2BJmjeKr%2BHUbqy1S%2B0bwZfeHRbXEUrK1rNpuoXE91ZzxjCvHM4fPzbVDAV6NXDfAP4C%2BHvgB4Z1PRtK8U634g1HX9euNb8SeJPEc0DXuq38wRGnlFvFDAmI4oYlSGKONUiQBRgk9zQAUUUUAFFFFABRRRQAUUUUAUfFHiGw8JeGtR8V6qHNrpljNd3IiXLeXGhdsDucKa%2Bc/2Jv2k/jX4/8U6P4M%2BNnh7wZZjx18LbL4jeGYfBmlXFoNMjvLgm70%2B7M1xKLuaN7m2f7YggE7SzEwR7QX%2Blru0tb%2B1lsb23SaGaNo5opVDK6kYKkHggjjFeQ/szfsV%2BAv2YNVfV9A%2BIPi3xLLbeGLHwz4dHiy9tZhoGhWbyPb6bam3t4S0amT5pZzNcSCOLzJn8tcAHsVFFFABXC/tQePPiL8LP2aPiJ8Tvg/4UXXvFvhzwLq%2BqeFtDaxmuhqOo29nLLbWxhgZZZhJKiJ5cbB23YUgkGu6rO8W6Jf8AiXwxqHh/S/Feo6Fc3tpJDb61pCwNdWLspAmiFxFLEXU8gSRumR8ysMggHl37FPxan%2BKHwzvrLVviF4f1nU/Duqrp15pmifDDU/Bz6GgtoJIrO40rVLme5hcI4kV28tHili2Jgb39irzz4D/s7aT8DrzxL4jufiJ4k8Y%2BJPF%2Bow3niLxT4rezF3dGG3S3giEdjbW1tFFHGgCrHCmSzsxZmZj6HQAUUUUAfLn7VH7WPxQ/Zw%2BL3jiy%2BJWjeEvEXwvsP2d/F/j220K30S4TVXbRBpaz21xcyXL280U6304CC2QqETLvlhXb/sz/ABf%2BPmqfFzxl%2Bzr%2B0s/hK88UeGPDHh7xLHqvgrSbmxspLLVn1K3W2MNzc3LmWG40i7BlEgWRHiby4zuWoPjH%2Bwr4d%2BOnx1b4y%2BPPjt45l02bwVqfhG%2B%2BHsMGi/2Jd6NqS232%2B0kL6a16RO1pA7OLoOpQhGRGZD0n7O/7Luh/s%2B32teI5/ih4t8b%2BIdftbCyv/E/ja5tJL02Fiki2dmPsltbx%2BVEZ7hwShkd7mV3d2bNAHp9FFFABXyJ8a/2l/wBrbwZrv7QHgS38K%2BDPFl74C8P%2BFPEnw2sdJ%2BH%2Bp386x6jqupQhLy1ivHl1GeBdNjnU2wtyXJCr8qtX13Xhcv7FHiGL46eNvj/oX7aHxW0rVvG%2BkWOmXNjZWfhhrTTbayuLmezS2EuivJ%2B6N5dKDM8pdZyJPMKoVAOr/ZU%2BLc3xl%2BFI8Taj8TtG8U6ja6rc2OrXWj%2BCL/w2bO4ib5rWfTNRuJ7q0nRSu5JmDEMrbVVhXpNcJ8A/gHoHwB0LWbHT/FuueI9V8TeIJdc8T%2BJvEktu17qt/JDDB5sgtoYYIwsFvbwqkUUaKkKALnJPd0AFFFFAHxt%2B0t%2B13%2B0t%2Bzx8ZoPhtrKfDPxrfa3BBN4Rh07wte2kvgu81LxDpnh7SJtTle%2BmF1FO2rzgtEtnI4sbpYwy%2BYYvcf2Vfi/8SPiMPH/w%2B%2BMR0SfxV8NPHjeGtZ1Xw1p01nYan5ml6dq1vcQ28088lvm11S3R42mlxJHJhiCMcLbf8E1fCTXXxDfxD%2B0v8TtZt/iTrx1zWLfUjoXmWepRXEM%2Bn3NtdRaWl0psHt7cWkbzSRRLCgZH5z6x8A/gLofwD8Patptl4v1zxJq3iLXpta8T%2BKPEr2xv9XvpI4ofOmFrBBAuyCC3gRIoo0WOCNQvBJAO6ooooAZc/afs0n2PZ52w%2BV5udu7HGcc4zXxB8Vv2uf20/hp8RNc%2BG1vbeA/GeveGL3w1b6t468EfBXX9Wj8OW%2BrNePe2EulWepT3dzNHDZWN0TFOn7u6haWBAYmk%2B3ruGS4tZbeG6kgeSNlWeIKXjJGAy7gVyOoyCPUGvnv4MfsBeIPgJ8Nrj4afDv8Abq%2BMUUd1qz6nNrN5ZeE59Qlu5XlkuZ5pn0I/aZJ3l3SSTiR8xpsKAYIB6z8BPiHZfFb4O%2BH/AIhWHxA0bxUmp6eJH1/w/pM1haXcgJWQpazzTS2xV1ZGhkkd42VlY7lIHX1yXwL%2BC/hL9n34X6d8KfBVzf3FlYS3VxNfarcia6vru6uZbq6upnCqGlmuJ5pX2qq7pDtVVwo62gAqj4nh8SXPhvULfwbqdjZavJZSrpd5qdg91bQXBQiOSWGOWJpo1bBZFkjLAEB1J3C9Wb4x0G/8UeFr/wAO6X4t1LQbm8tXig1rRxAbqxcjiaIXEUsRdTyBJG6HHzKwyKAPh74b/t2fta/GD4p638EvhZpvw%2BTxnptrrt9J4z8V/C7WtDXVNM0i10WVLGXRLy%2BTUNPle78Q7EmnmePyoZLhIXWdAfsb4BfFrTfj58CfBXx10bTZbOz8a%2BEtN160s5n3PBFeWsdwsbEAZKiQAn1FeLav/wAEyPA%2Bta5ffEW7/aU%2BKafEDVkvLXWviTbXukQ6tf6ZdW1rbTaYUTTRZw2xSytGHkW0UqyQLKsocsx%2Bg/Bfg/w18PPB2k%2BAPBmkxafo%2Bh6ZBp%2Bk2EOdltbQxrHFGuecKiqo%2BlAGnRRRQBy/xp1Hxxo3wt1rW/hz4hsdL1awszdQ32oeD73xAiRxkPKBp1jPBc3kjRK6pFDIHLsuFc/I3xb8Jf8Agoj8fvEnjTQ9T8b3HhHwJ4M1KedfEHji8%2BBniKa21i/h1%2B60hEuZVvo08MzyWtpa/uNUaSWB5VjfOwJX238TPBmu%2BPfCU3hzw38Utf8ABt5JLG8Wv%2BGYrF7uDawJVVv7a5gYMAVIeJuCcYOCPFbr/gnN4U1DwfcfDbVv2kPibd%2BGNc1Ca/8AHmgTXGjiLxhdz3jXVxNfSrpouIvNLLC0dnLaxCGJI1RRu3AH0TRRRQAUUUUAFFFFABRRRQAUUUUAFFFFABRRRQAUUUUAFFFFABRRRQAUUUUAFFFFABRRRQAUUUUAFFFFABRRRQAUUUUAFFFFABRRRQAUUUUAFFFFABRRRQAUUUUAFFFFABRRRQAUUUUAFFFFABRRRQAUUUUAFFFFABRRRQAUUUUAFFFFABRRRQAUUUUAFFFFABRRRQAUUUUAFFFFABRRRQAUUUUAFFFFABRRRQAUUUUAFFFFABRRRQAUUUUAFFFFABRRRQAUUUUAFFFFABRRRQAUUUUAFFFFABRRRQAUUUUAFFFFABRRRQAUUUUAFFFFABRRRQB//9k%3D\">"
      ]
     },
     "metadata": {},
     "output_type": "display_data"
    }
   ],
   "source": [
    "s.run(tf.global_variables_initializer())\n",
    "\n",
    "BATCH_SIZE = 512\n",
    "EPOCHS = 40\n",
    "\n",
    "# for logging the progress right here in Jupyter (for those who don't have TensorBoard)\n",
    "simpleTrainingCurves = matplotlib_utils.SimpleTrainingCurves(\"cross-entropy\", \"accuracy\")\n",
    "\n",
    "for epoch in range(EPOCHS):  # we finish an epoch when we've looked at all training samples\n",
    "    \n",
    "    batch_losses = []\n",
    "    for batch_start in range(0, X_train_flat.shape[0], BATCH_SIZE):  # data is already shuffled\n",
    "        _, batch_loss = s.run([step, loss], {input_X: X_train_flat[batch_start:batch_start+BATCH_SIZE], \n",
    "                                             input_y: y_train_oh[batch_start:batch_start+BATCH_SIZE]})\n",
    "        # collect batch losses, this is almost free as we need a forward pass for backprop anyway\n",
    "        batch_losses.append(batch_loss)\n",
    "\n",
    "    train_loss = np.mean(batch_losses)\n",
    "    val_loss = s.run(loss, {input_X: X_val_flat, input_y: y_val_oh})  # this part is usually small\n",
    "    train_accuracy = accuracy_score(y_train, s.run(classes, {input_X: X_train_flat}))  # this is slow and usually skipped\n",
    "    valid_accuracy = accuracy_score(y_val, s.run(classes, {input_X: X_val_flat}))  \n",
    "    simpleTrainingCurves.add(train_loss, val_loss, train_accuracy, valid_accuracy)"
   ]
  },
  {
   "cell_type": "markdown",
   "metadata": {},
   "source": [
    "# Submit a linear model"
   ]
  },
  {
   "cell_type": "code",
   "execution_count": 31,
   "metadata": {
    "collapsed": true
   },
   "outputs": [],
   "source": [
    "## GRADED PART, DO NOT CHANGE!\n",
    "# Testing shapes \n",
    "grader.set_answer(\"9XaAS\", grading_utils.get_tensors_shapes_string([W, b, input_X, input_y, logits, probas, classes]))\n",
    "# Validation loss\n",
    "grader.set_answer(\"vmogZ\", s.run(loss, {input_X: X_val_flat, input_y: y_val_oh}))\n",
    "# Validation accuracy\n",
    "grader.set_answer(\"RMv95\", accuracy_score(y_val, s.run(classes, {input_X: X_val_flat})))"
   ]
  },
  {
   "cell_type": "code",
   "execution_count": 32,
   "metadata": {},
   "outputs": [
    {
     "name": "stdout",
     "output_type": "stream",
     "text": [
      "Submitted to Coursera platform. See results on assignment page!\n"
     ]
    }
   ],
   "source": [
    "# you can make submission with answers so far to check yourself at this stage\n",
    "grader.submit(COURSERA_EMAIL, COURSERA_TOKEN)"
   ]
  },
  {
   "cell_type": "markdown",
   "metadata": {},
   "source": [
    "# MLP with hidden layers"
   ]
  },
  {
   "cell_type": "markdown",
   "metadata": {},
   "source": [
    "Previously we've coded a dense layer with matrix multiplication by hand. \n",
    "But this is not convenient, you have to create a lot of variables and your code becomes a mess. \n",
    "In TensorFlow there's an easier way to make a dense layer:\n",
    "```python\n",
    "hidden1 = tf.layers.dense(inputs, 256, activation=tf.nn.sigmoid)\n",
    "```\n",
    "\n",
    "That will create all the necessary variables automatically.\n",
    "Here you can also choose an activation function (remember that we need it for a hidden layer!).\n",
    "\n",
    "Now define the MLP with 2 hidden layers and restart training with the cell above.\n",
    "\n",
    "You're aiming for ~0.97 validation accuracy here."
   ]
  },
  {
   "cell_type": "code",
   "execution_count": 52,
   "metadata": {},
   "outputs": [],
   "source": [
    "# write the code here to get a new `step` operation and then run the cell with training loop above.\n",
    "# name your variables in the same way (e.g. logits, probas, classes, etc) for safety.\n",
    "### YOUR CODE HERE ###\n",
    "\n",
    "hidden1 = tf.layers.dense(input_X, 256, activation=tf.nn.sigmoid)\n",
    "hidden2 = tf.layers.dense(hidden1, 256, activation=tf.nn.sigmoid)\n",
    "\n",
    "# Compute predictions\n",
    "logits = tf.layers.dense(hidden2, 10) ### YOUR CODE HERE ### logits for input_X, resulting shape should be [input_X.shape[0], 10]\n",
    "# probas = tf.layers.dense(hidden2, 10, tf.nn.softmax)\n",
    "probas = tf.nn.softmax(logits) ### YOUR CODE HERE ### apply tf.nn.softmax to logits\n",
    "classes = tf.argmax(probas, 1)  ### YOUR CODE HERE ### apply tf.argmax to find a class index with highest probability\n",
    "\n",
    "# Loss should be a scalar number: average loss over all the objects with tf.reduce_mean().\n",
    "# Use tf.nn.softmax_cross_entropy_with_logits on top of one-hot encoded input_y and logits.\n",
    "# It is identical to calculating cross-entropy on top of probas, but is more numerically friendly (read the docs).\n",
    "loss = tf.reduce_mean(tf.nn.softmax_cross_entropy_with_logits(labels=input_y, logits=logits)) ### YOUR CODE HERE ### cross-entropy loss\n",
    "\n",
    "# Use a default tf.train.AdamOptimizer to get an SGD step\n",
    "step = tf.train.AdamOptimizer().minimize(loss) ### YOUR CODE HERE ### optimizer step that minimizes the loss"
   ]
  },
  {
   "cell_type": "markdown",
   "metadata": {},
   "source": [
    "# Submit the MLP with 2 hidden layers\n",
    "Run these cells after training the MLP with 2 hidden layers"
   ]
  },
  {
   "cell_type": "code",
   "execution_count": 54,
   "metadata": {
    "collapsed": true
   },
   "outputs": [],
   "source": [
    "## GRADED PART, DO NOT CHANGE!\n",
    "# Validation loss for MLP\n",
    "grader.set_answer(\"i8bgs\", s.run(loss, {input_X: X_val_flat, input_y: y_val_oh}))\n",
    "# Validation accuracy for MLP\n",
    "grader.set_answer(\"rE763\", accuracy_score(y_val, s.run(classes, {input_X: X_val_flat})))"
   ]
  },
  {
   "cell_type": "code",
   "execution_count": 55,
   "metadata": {},
   "outputs": [
    {
     "name": "stdout",
     "output_type": "stream",
     "text": [
      "Submitted to Coursera platform. See results on assignment page!\n"
     ]
    }
   ],
   "source": [
    "# you can make submission with answers so far to check yourself at this stage\n",
    "grader.submit(COURSERA_EMAIL, COURSERA_TOKEN)"
   ]
  },
  {
   "cell_type": "code",
   "execution_count": null,
   "metadata": {
    "collapsed": true
   },
   "outputs": [],
   "source": []
  }
 ],
 "metadata": {
  "kernelspec": {
   "display_name": "Python 3",
   "language": "python",
   "name": "python3"
  },
  "language_info": {
   "codemirror_mode": {
    "name": "ipython",
    "version": 3
   },
   "file_extension": ".py",
   "mimetype": "text/x-python",
   "name": "python",
   "nbconvert_exporter": "python",
   "pygments_lexer": "ipython3",
   "version": "3.6.2"
  }
 },
 "nbformat": 4,
 "nbformat_minor": 1
}
